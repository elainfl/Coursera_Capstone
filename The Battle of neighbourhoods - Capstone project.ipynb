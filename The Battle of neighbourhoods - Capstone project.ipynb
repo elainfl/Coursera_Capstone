{
    "cells": [
        {
            "cell_type": "markdown",
            "metadata": {
                "collapsed": true
            },
            "source": "# Evaluation of the neighborhoods in Oslo, Norway in order to develop a business activity."
        },
        {
            "cell_type": "markdown",
            "metadata": {},
            "source": "## I. Introduction"
        },
        {
            "cell_type": "markdown",
            "metadata": {},
            "source": "The development of businesses brings diverse commercial activities of interest such as capital investment, job creation and increases the activity of the area, often improving the quality of life of the inhabitants in the area. However, it is necessary that the business activity to be developed is economically profitable and sometimes the best option is to choose a neighborhood that already has an activity developed at least to some extent. Therefore, it is important to evaluate the presence of commercial activity in the different neighbourhoods of Oslo. "
        },
        {
            "cell_type": "markdown",
            "metadata": {},
            "source": "## II. Data"
        },
        {
            "cell_type": "markdown",
            "metadata": {},
            "source": "In order to obtain the data we need to start aur data analysis, we need to import all  the necessaty libraries."
        },
        {
            "cell_type": "markdown",
            "metadata": {},
            "source": "### Import necessary Libraries"
        },
        {
            "cell_type": "code",
            "execution_count": 2,
            "metadata": {},
            "outputs": [
                {
                    "name": "stdout",
                    "output_type": "stream",
                    "text": "Solving environment: done\n\n## Package Plan ##\n\n  environment location: /opt/conda/envs/Python36\n\n  added / updated specs: \n    - geopy\n\n\nThe following packages will be downloaded:\n\n    package                    |            build\n    ---------------------------|-----------------\n    ca-certificates-2020.4.5.1 |       hecc5488_0         146 KB  conda-forge\n    certifi-2020.4.5.1         |   py36h9f0ad1d_0         151 KB  conda-forge\n    geopy-1.21.0               |             py_0          58 KB  conda-forge\n    geographiclib-1.50         |             py_0          34 KB  conda-forge\n    python_abi-3.6             |          1_cp36m           4 KB  conda-forge\n    openssl-1.1.1g             |       h516909a_0         2.1 MB  conda-forge\n    ------------------------------------------------------------\n                                           Total:         2.5 MB\n\nThe following NEW packages will be INSTALLED:\n\n    geographiclib:   1.50-py_0         conda-forge\n    geopy:           1.21.0-py_0       conda-forge\n    python_abi:      3.6-1_cp36m       conda-forge\n\nThe following packages will be UPDATED:\n\n    ca-certificates: 2020.1.1-0                    --> 2020.4.5.1-hecc5488_0     conda-forge\n    certifi:         2020.4.5.1-py36_0             --> 2020.4.5.1-py36h9f0ad1d_0 conda-forge\n    openssl:         1.1.1f-h7b6447c_0             --> 1.1.1g-h516909a_0         conda-forge\n\n\nDownloading and Extracting Packages\nca-certificates-2020 | 146 KB    | ##################################### | 100% \ncertifi-2020.4.5.1   | 151 KB    | ##################################### | 100% \ngeopy-1.21.0         | 58 KB     | ##################################### | 100% \ngeographiclib-1.50   | 34 KB     | ##################################### | 100% \npython_abi-3.6       | 4 KB      | ##################################### | 100% \nopenssl-1.1.1g       | 2.1 MB    | ##################################### | 100% \nPreparing transaction: done\nVerifying transaction: done\nExecuting transaction: done\nSolving environment: done\n\n## Package Plan ##\n\n  environment location: /opt/conda/envs/Python36\n\n  added / updated specs: \n    - folium=0.5.0\n\n\nThe following packages will be downloaded:\n\n    package                    |            build\n    ---------------------------|-----------------\n    branca-0.4.0               |             py_0          26 KB  conda-forge\n    altair-4.1.0               |             py_1         614 KB  conda-forge\n    folium-0.5.0               |             py_0          45 KB  conda-forge\n    vincent-0.4.4              |             py_1          28 KB  conda-forge\n    ------------------------------------------------------------\n                                           Total:         713 KB\n\nThe following NEW packages will be INSTALLED:\n\n    altair:  4.1.0-py_1 conda-forge\n    branca:  0.4.0-py_0 conda-forge\n    folium:  0.5.0-py_0 conda-forge\n    vincent: 0.4.4-py_1 conda-forge\n\n\nDownloading and Extracting Packages\nbranca-0.4.0         | 26 KB     | ##################################### | 100% \naltair-4.1.0         | 614 KB    | ##################################### | 100% \nfolium-0.5.0         | 45 KB     | ##################################### | 100% \nvincent-0.4.4        | 28 KB     | ##################################### | 100% \nPreparing transaction: done\nVerifying transaction: done\nExecuting transaction: done\nFolium installed\nLibraries imported.\n"
                }
            ],
            "source": "import requests # library to handle requests\nimport pandas as pd # library for data analsysis\nimport numpy as np # library to handle data in a vectorized manner\nimport random # library for random number generation\n\n!conda install -c conda-forge geopy --yes \nfrom geopy.geocoders import Nominatim # module to convert an address into latitude and longitude values\n\n# libraries for displaying images\nfrom IPython.display import Image \nfrom IPython.core.display import HTML \n    \n# tranforming json file into a pandas dataframe library\nfrom pandas.io.json import json_normalize\n\n!conda install -c conda-forge folium=0.5.0 --yes\nimport folium # plotting library\n\nprint('Folium installed')\nprint('Libraries imported.')"
        },
        {
            "cell_type": "markdown",
            "metadata": {},
            "source": "### Define Foursquare Credentials and Version\n#### Make sure that you have created a Foursquare developer account and have your credentials handy"
        },
        {
            "cell_type": "code",
            "execution_count": 4,
            "metadata": {},
            "outputs": [
                {
                    "name": "stdout",
                    "output_type": "stream",
                    "text": "Requirement already satisfied: pgeocode in /opt/conda/envs/Python36/lib/python3.6/site-packages (0.2.1)\nRequirement already satisfied: numpy in /opt/conda/envs/Python36/lib/python3.6/site-packages (from pgeocode) (1.15.4)\nRequirement already satisfied: requests in /opt/conda/envs/Python36/lib/python3.6/site-packages (from pgeocode) (2.21.0)\nRequirement already satisfied: pandas in /opt/conda/envs/Python36/lib/python3.6/site-packages (from pgeocode) (0.24.1)\nRequirement already satisfied: chardet<3.1.0,>=3.0.2 in /opt/conda/envs/Python36/lib/python3.6/site-packages (from requests->pgeocode) (3.0.4)\nRequirement already satisfied: urllib3<1.25,>=1.21.1 in /opt/conda/envs/Python36/lib/python3.6/site-packages (from requests->pgeocode) (1.24.1)\nRequirement already satisfied: idna<2.9,>=2.5 in /opt/conda/envs/Python36/lib/python3.6/site-packages (from requests->pgeocode) (2.8)\nRequirement already satisfied: certifi>=2017.4.17 in /opt/conda/envs/Python36/lib/python3.6/site-packages (from requests->pgeocode) (2020.4.5.1)\nRequirement already satisfied: python-dateutil>=2.5.0 in /opt/conda/envs/Python36/lib/python3.6/site-packages (from pandas->pgeocode) (2.7.5)\nRequirement already satisfied: pytz>=2011k in /opt/conda/envs/Python36/lib/python3.6/site-packages (from pandas->pgeocode) (2018.9)\nRequirement already satisfied: six>=1.5 in /opt/conda/envs/Python36/lib/python3.6/site-packages (from python-dateutil>=2.5.0->pandas->pgeocode) (1.12.0)\nlibrary pgcode imported!\n"
                }
            ],
            "source": "!pip install pgeocode\nimport pgeocode\nprint('library pgcode imported!')"
        },
        {
            "cell_type": "markdown",
            "metadata": {},
            "source": "## Obtaining boroughs latitudes\n"
        },
        {
            "cell_type": "markdown",
            "metadata": {},
            "source": "In order to obtain the boroughs latitudes we need to precisely know which are the boroughs in Oslo. For this purpose we will scrap a Wikipedia weppage containing the information we are looking for in Oslo."
        },
        {
            "cell_type": "code",
            "execution_count": 5,
            "metadata": {},
            "outputs": [],
            "source": "from bs4 import BeautifulSoup\nimport requests\nimport pandas as pd"
        },
        {
            "cell_type": "code",
            "execution_count": 6,
            "metadata": {},
            "outputs": [],
            "source": "url='https://en.wikipedia.org/wiki/List_of_boroughs_of_Oslo'"
        },
        {
            "cell_type": "code",
            "execution_count": 7,
            "metadata": {},
            "outputs": [],
            "source": "source = requests.get(url).text\nsoup = BeautifulSoup(source, 'xml')\ntable=soup.find('table')"
        },
        {
            "cell_type": "code",
            "execution_count": 63,
            "metadata": {},
            "outputs": [
                {
                    "data": {
                        "text/plain": "<table class=\"wikitable sortable\">\n<tbody><tr>\n<th>Borough</th>\n<th>Residents</th>\n<th>Area</th>\n<th>Number\n</th></tr>\n<tr>\n<td><a href=\"/wiki/Alna\" title=\"Alna\">Alna</a></td>\n<td>45 114</td>\n<td>13,7\u00a0km<sup>2</sup></td>\n<td align=\"right\">12\n</td></tr>\n<tr>\n<td><a href=\"/wiki/Bjerke\" title=\"Bjerke\">Bjerke</a></td>\n<td>26 229</td>\n<td>7,7\u00a0km<sup>2</sup></td>\n<td align=\"right\">9\n</td></tr>\n<tr>\n<td><a href=\"/wiki/Frogner\" title=\"Frogner\">Frogner</a></td>\n<td>47 618</td>\n<td>8,3\u00a0km<sup>2</sup></td>\n<td align=\"right\">5\n</td></tr>\n<tr>\n<td><a href=\"/wiki/Gamle_Oslo\" title=\"Gamle Oslo\">Gamle Oslo</a></td>\n<td>39 500</td>\n<td>7,5\u00a0km<sup>2</sup></td>\n<td align=\"right\">1\n</td></tr>\n<tr>\n<td><a href=\"/wiki/Grorud\" title=\"Grorud\">Grorud</a></td>\n<td>25 461</td>\n<td>8,2\u00a0km<sup>2</sup></td>\n<td align=\"right\">10\n</td></tr>\n<tr>\n<td><a href=\"/wiki/Gr%C3%BCnerl%C3%B8kka\" title=\"Gr\u00fcnerl\u00f8kka\">Gr\u00fcnerl\u00f8kka</a></td>\n<td>42 129</td>\n<td>4,8\u00a0km<sup>2</sup></td>\n<td align=\"right\">2\n</td></tr>\n<tr>\n<td><a href=\"/wiki/Nordre_Aker\" title=\"Nordre Aker\">Nordre Aker</a></td>\n<td>43 843</td>\n<td>13,6\u00a0km<sup>2</sup></td>\n<td align=\"right\">8\n</td></tr>\n<tr>\n<td><a href=\"/wiki/Nordstrand,_Norway\" title=\"Nordstrand, Norway\">Nordstrand</a></td>\n<td>44 802</td>\n<td>16,9\u00a0km<sup>2</sup></td>\n<td align=\"right\">14\n</td></tr>\n<tr>\n<td><a href=\"/wiki/Sagene\" title=\"Sagene\">Sagene</a></td>\n<td>32 394</td>\n<td>3,1\u00a0km<sup>2</sup></td>\n<td align=\"right\">3\n</td></tr>\n<tr>\n<td><a href=\"/wiki/St._Hanshaugen\" title=\"St. Hanshaugen\">St. Hanshaugen</a></td>\n<td>30 144</td>\n<td>3,6\u00a0km<sup>2</sup></td>\n<td align=\"right\">4\n</td></tr>\n<tr>\n<td><a href=\"/wiki/Stovner\" title=\"Stovner\">Stovner</a></td>\n<td>29 351</td>\n<td>8,2\u00a0km<sup>2</sup></td>\n<td align=\"right\">11\n</td></tr>\n<tr>\n<td><a href=\"/wiki/S%C3%B8ndre_Nordstrand\" title=\"S\u00f8ndre Nordstrand\">S\u00f8ndre Nordstrand</a></td>\n<td>34 980</td>\n<td>18,4\u00a0km<sup>2</sup></td>\n<td align=\"right\">15\n</td></tr>\n<tr>\n<td><a href=\"/wiki/Ullern\" title=\"Ullern\">Ullern</a></td>\n<td>28 898</td>\n<td>9,4\u00a0km<sup>2</sup></td>\n<td align=\"right\">6\n</td></tr>\n<tr>\n<td><a href=\"/wiki/Vestre_Aker\" title=\"Vestre Aker\">Vestre Aker</a></td>\n<td>42 042</td>\n<td>16,6\u00a0km<sup>2</sup></td>\n<td align=\"right\">7\n</td></tr>\n<tr>\n<td><a href=\"/wiki/%C3%98stensj%C3%B8\" title=\"\u00d8stensj\u00f8\">\u00d8stensj\u00f8</a></td>\n<td>44 399</td>\n<td>12,2\u00a0km<sup>2</sup></td>\n<td align=\"right\">13\n</td></tr></tbody></table>"
                    },
                    "execution_count": 63,
                    "metadata": {},
                    "output_type": "execute_result"
                }
            ],
            "source": "table"
        },
        {
            "cell_type": "code",
            "execution_count": 9,
            "metadata": {},
            "outputs": [],
            "source": "#dataframe will consist of three columns: PostalCode, Borough, and Neighborhood\ncolumn_names = ['Borough','Residents', 'Area', 'number']\ndf = pd.DataFrame(columns = column_names)"
        },
        {
            "cell_type": "code",
            "execution_count": 10,
            "metadata": {},
            "outputs": [],
            "source": "# Search all the postcode, borough, neighborhood \nfor tr_cell in table.find_all('tr'):\n    row_data=[]\n    for td_cell in tr_cell.find_all('td'):\n        row_data.append(td_cell.text.strip())\n    if len(row_data)==4:\n        df.loc[len(df)] = row_data"
        },
        {
            "cell_type": "code",
            "execution_count": 11,
            "metadata": {},
            "outputs": [
                {
                    "data": {
                        "text/html": "<div>\n<style scoped>\n    .dataframe tbody tr th:only-of-type {\n        vertical-align: middle;\n    }\n\n    .dataframe tbody tr th {\n        vertical-align: top;\n    }\n\n    .dataframe thead th {\n        text-align: right;\n    }\n</style>\n<table border=\"1\" class=\"dataframe\">\n  <thead>\n    <tr style=\"text-align: right;\">\n      <th></th>\n      <th>Borough</th>\n      <th>Residents</th>\n      <th>Area</th>\n      <th>number</th>\n    </tr>\n  </thead>\n  <tbody>\n    <tr>\n      <th>0</th>\n      <td>Alna</td>\n      <td>45 114</td>\n      <td>13,7\u00a0km2</td>\n      <td>12</td>\n    </tr>\n    <tr>\n      <th>1</th>\n      <td>Bjerke</td>\n      <td>26 229</td>\n      <td>7,7\u00a0km2</td>\n      <td>9</td>\n    </tr>\n    <tr>\n      <th>2</th>\n      <td>Frogner</td>\n      <td>47 618</td>\n      <td>8,3\u00a0km2</td>\n      <td>5</td>\n    </tr>\n    <tr>\n      <th>3</th>\n      <td>Gamle Oslo</td>\n      <td>39 500</td>\n      <td>7,5\u00a0km2</td>\n      <td>1</td>\n    </tr>\n    <tr>\n      <th>4</th>\n      <td>Grorud</td>\n      <td>25 461</td>\n      <td>8,2\u00a0km2</td>\n      <td>10</td>\n    </tr>\n  </tbody>\n</table>\n</div>",
                        "text/plain": "      Borough Residents      Area number\n0        Alna    45 114  13,7\u00a0km2     12\n1      Bjerke    26 229   7,7\u00a0km2      9\n2     Frogner    47 618   8,3\u00a0km2      5\n3  Gamle Oslo    39 500   7,5\u00a0km2      1\n4      Grorud    25 461   8,2\u00a0km2     10"
                    },
                    "execution_count": 11,
                    "metadata": {},
                    "output_type": "execute_result"
                }
            ],
            "source": "df.head()"
        },
        {
            "cell_type": "markdown",
            "metadata": {},
            "source": "From this table we create a list of the boroughs"
        },
        {
            "cell_type": "code",
            "execution_count": 12,
            "metadata": {},
            "outputs": [
                {
                    "data": {
                        "text/plain": "0                  Alna\n1                Bjerke\n2               Frogner\n3            Gamle Oslo\n4                Grorud\n5           Gr\u00fcnerl\u00f8kka\n6           Nordre Aker\n7            Nordstrand\n8                Sagene\n9        St. Hanshaugen\n10              Stovner\n11    S\u00f8ndre Nordstrand\n12               Ullern\n13          Vestre Aker\n14             \u00d8stensj\u00f8\nName: Borough, dtype: object"
                    },
                    "execution_count": 12,
                    "metadata": {},
                    "output_type": "execute_result"
                }
            ],
            "source": "list = df['Borough']\nlist"
        },
        {
            "cell_type": "code",
            "execution_count": 13,
            "metadata": {},
            "outputs": [
                {
                    "name": "stdout",
                    "output_type": "stream",
                    "text": "Libraries imported.\n"
                }
            ],
            "source": "import pandas as pd\nimport numpy as np\nimport requests\nfrom bs4 import BeautifulSoup\nimport os\nfrom sklearn.cluster import KMeans\n#!pip install folium\nimport folium\n#!conda install -c conda-forge geopy --yes\nfrom geopy.geocoders import Nominatim \nimport matplotlib.cm as cm\nimport matplotlib.colors as colors\n\nprint('Libraries imported.')"
        },
        {
            "cell_type": "markdown",
            "metadata": {},
            "source": "## Foursquare API. Searching businesess in the vicinity "
        },
        {
            "cell_type": "code",
            "execution_count": 14,
            "metadata": {},
            "outputs": [
                {
                    "name": "stdout",
                    "output_type": "stream",
                    "text": "Your credentails:\nCLIENT_ID: 4UQCB3H1L3DLIZLOB3DFTKWR5TLCUYHVSJNN1VXOD5C50AM4\nCLIENT_SECRET:CROXNP1UC1RN3RF5PT1YRH0YIKPWL03ENFUFNN2JGARHIYRL\n"
                }
            ],
            "source": "CLIENT_ID = '4UQCB3H1L3DLIZLOB3DFTKWR5TLCUYHVSJNN1VXOD5C50AM4' # your Foursquare ID\nCLIENT_SECRET = 'CROXNP1UC1RN3RF5PT1YRH0YIKPWL03ENFUFNN2JGARHIYRL' # your Foursquare Secret\nVERSION = '20200421'\nLIMIT = 300\nprint('Your credentails:')\nprint('CLIENT_ID: ' + CLIENT_ID)\nprint('CLIENT_SECRET:' + CLIENT_SECRET)"
        },
        {
            "cell_type": "markdown",
            "metadata": {},
            "source": "The purpose of the next code it is just to make sure that this code works properly."
        },
        {
            "cell_type": "code",
            "execution_count": 15,
            "metadata": {},
            "outputs": [
                {
                    "name": "stdout",
                    "output_type": "stream",
                    "text": "59.9324168 10.8352756\n"
                }
            ],
            "source": "address = 'Alna'\n\ngeolocator = Nominatim(user_agent=\"foursquare_agent\")\nlocation = geolocator.geocode(address)\nlatitude = location.latitude\nlongitude = location.longitude\n#latitudes.append(latitude, longitude)\nprint(latitude, longitude)"
        },
        {
            "cell_type": "code",
            "execution_count": 16,
            "metadata": {},
            "outputs": [],
            "source": "def get_location(postal_code):\n    # initialize your variable to None\n    lat_lng_coords = None\n    while(lat_lng_coords is None):\n        g = geocoder.google('{}, Oslo, Norway'.format(postal_code))\n        lat_lng_coords = g.latlng\n    latitude = lat_lng_coords[0]\n    longitude = lat_lng_coords[1]\n    return latitude,longitude"
        },
        {
            "cell_type": "markdown",
            "metadata": {},
            "source": "From pgeocode, the database containing all the postal codes is downloaded."
        },
        {
            "cell_type": "code",
            "execution_count": 17,
            "metadata": {},
            "outputs": [],
            "source": "import requests, zipfile, io\n\nNO_url_zip='http://download.geonames.org/export/zip/NO.zip'\nr = requests.get(NO_url_zip)\nz = zipfile.ZipFile(io.BytesIO(r.content))\n#z.extractall()\n"
        },
        {
            "cell_type": "markdown",
            "metadata": {},
            "source": "We loop through all the neighbourhoods in order to obtain the exact location with Geolocator"
        },
        {
            "cell_type": "code",
            "execution_count": 18,
            "metadata": {},
            "outputs": [],
            "source": "\nlatitudes=[]\nlongitudes=[]\n\nfor i in list:\n    address = i\n\n    geolocator = Nominatim(user_agent=\"foursquare_agent\")\n    location = geolocator.geocode(address)\n    latitude = location.latitude\n    longitude = location.longitude\n    latitudes.append(latitude)\n    longitudes.append(longitude)"
        },
        {
            "cell_type": "markdown",
            "metadata": {},
            "source": "Now we have a list with the exact location of the neighbourhood. Look below."
        },
        {
            "cell_type": "code",
            "execution_count": 19,
            "metadata": {},
            "outputs": [
                {
                    "data": {
                        "text/html": "<div>\n<style scoped>\n    .dataframe tbody tr th:only-of-type {\n        vertical-align: middle;\n    }\n\n    .dataframe tbody tr th {\n        vertical-align: top;\n    }\n\n    .dataframe thead th {\n        text-align: right;\n    }\n</style>\n<table border=\"1\" class=\"dataframe\">\n  <thead>\n    <tr style=\"text-align: right;\">\n      <th></th>\n      <th>Neighborhood</th>\n      <th>Latitude</th>\n      <th>Longitude</th>\n    </tr>\n  </thead>\n  <tbody>\n    <tr>\n      <th>0</th>\n      <td>Alna</td>\n      <td>59.932417</td>\n      <td>10.835276</td>\n    </tr>\n    <tr>\n      <th>1</th>\n      <td>Bjerke</td>\n      <td>59.941395</td>\n      <td>10.829208</td>\n    </tr>\n    <tr>\n      <th>2</th>\n      <td>Frogner</td>\n      <td>59.922224</td>\n      <td>10.706649</td>\n    </tr>\n    <tr>\n      <th>3</th>\n      <td>Gamle Oslo</td>\n      <td>59.899237</td>\n      <td>10.734767</td>\n    </tr>\n    <tr>\n      <th>4</th>\n      <td>Grorud</td>\n      <td>59.961424</td>\n      <td>10.880549</td>\n    </tr>\n    <tr>\n      <th>5</th>\n      <td>Gr\u00fcnerl\u00f8kka</td>\n      <td>59.925471</td>\n      <td>10.777421</td>\n    </tr>\n    <tr>\n      <th>6</th>\n      <td>Nordre Aker</td>\n      <td>59.953638</td>\n      <td>10.756412</td>\n    </tr>\n    <tr>\n      <th>7</th>\n      <td>Nordstrand</td>\n      <td>54.487378</td>\n      <td>8.865286</td>\n    </tr>\n    <tr>\n      <th>8</th>\n      <td>Sagene</td>\n      <td>59.938273</td>\n      <td>10.765849</td>\n    </tr>\n    <tr>\n      <th>9</th>\n      <td>St. Hanshaugen</td>\n      <td>59.927950</td>\n      <td>10.738958</td>\n    </tr>\n    <tr>\n      <th>10</th>\n      <td>Stovner</td>\n      <td>59.962140</td>\n      <td>10.922823</td>\n    </tr>\n    <tr>\n      <th>11</th>\n      <td>S\u00f8ndre Nordstrand</td>\n      <td>59.835944</td>\n      <td>10.798496</td>\n    </tr>\n    <tr>\n      <th>12</th>\n      <td>Ullern</td>\n      <td>59.925818</td>\n      <td>10.665132</td>\n    </tr>\n    <tr>\n      <th>13</th>\n      <td>Vestre Aker</td>\n      <td>59.958300</td>\n      <td>10.670319</td>\n    </tr>\n    <tr>\n      <th>14</th>\n      <td>\u00d8stensj\u00f8</td>\n      <td>59.887563</td>\n      <td>10.832748</td>\n    </tr>\n  </tbody>\n</table>\n</div>",
                        "text/plain": "         Neighborhood   Latitude  Longitude\n0                Alna  59.932417  10.835276\n1              Bjerke  59.941395  10.829208\n2             Frogner  59.922224  10.706649\n3          Gamle Oslo  59.899237  10.734767\n4              Grorud  59.961424  10.880549\n5         Gr\u00fcnerl\u00f8kka  59.925471  10.777421\n6         Nordre Aker  59.953638  10.756412\n7          Nordstrand  54.487378   8.865286\n8              Sagene  59.938273  10.765849\n9      St. Hanshaugen  59.927950  10.738958\n10            Stovner  59.962140  10.922823\n11  S\u00f8ndre Nordstrand  59.835944  10.798496\n12             Ullern  59.925818  10.665132\n13        Vestre Aker  59.958300  10.670319\n14           \u00d8stensj\u00f8  59.887563  10.832748"
                    },
                    "execution_count": 19,
                    "metadata": {},
                    "output_type": "execute_result"
                }
            ],
            "source": "df2 = pd.DataFrame()\ndf2['Neighborhood']=list\ndf2['Latitude']=latitudes\ndf2['Longitude']=longitudes\ndf2"
        },
        {
            "cell_type": "markdown",
            "metadata": {},
            "source": "Now we can use Foursquare to get the business that we can find in every borough in Oslo. For this, we must create a function. "
        },
        {
            "cell_type": "code",
            "execution_count": 34,
            "metadata": {},
            "outputs": [],
            "source": "def getNearbyVenues(names, latitudes, longitudes, radius=500):\n    \n    radius=1000\n    LIMIT=100\n    venues_list=[]\n    \n    for name, lat, lng in zip(names, latitudes, longitudes):\n        print(name)\n            \n        # create the API request URL\n        url = 'https://api.foursquare.com/v2/venues/explore?&client_id=4UQCB3H1L3DLIZLOB3DFTKWR5TLCUYHVSJNN1VXOD5C50AM4&client_secret=CROXNP1UC1RN3RF5PT1YRH0YIKPWL03ENFUFNN2JGARHIYRL&v=20200214&ll=40.87655077879964,-73.91065965862981&radius=1000&limit=100'.format(\n            CLIENT_ID, \n            CLIENT_SECRET, \n            VERSION, \n            lat, \n            lng, \n            radius, \n            LIMIT)\n            \n        # make the GET request\n        results = requests.get(url).json()[\"response\"]['groups'][0]['items']\n        #results = requests.get(url, \"none\").json()[\"categories\"]\n                \n        # return only relevant information for each nearby venue\n        venues_list.append([(\n            name, \n            lat, \n            lng, \n            v['venue']['name'], \n            v['venue']['location']['lat'], \n            v['venue']['location']['lng'],  \n            v['venue']['categories'][0]['name']) for v in results])\n\n    nearby_venues = pd.DataFrame([item for venue_list in venues_list for item in venue_list])\n    nearby_venues.columns = ['Neighborhood', \n                  'Neighborhood Latitude', \n                  'Neighborhood Longitude', \n                  'Venue', \n                  'Venue Latitude', \n                  'Venue Longitude', \n                  'Venue Category']\n    \n    \n    return(nearby_venues)"
        },
        {
            "cell_type": "markdown",
            "metadata": {},
            "source": "Now, we use the function defined above to obatin the data we are looking for. "
        },
        {
            "cell_type": "code",
            "execution_count": 58,
            "metadata": {},
            "outputs": [
                {
                    "name": "stdout",
                    "output_type": "stream",
                    "text": "Alna\nBjerke\nFrogner\nGamle Oslo\nGrorud\nGr\u00fcnerl\u00f8kka\nNordre Aker\nNordstrand\nSagene\nSt. Hanshaugen\nStovner\nS\u00f8ndre Nordstrand\nUllern\nVestre Aker\n\u00d8stensj\u00f8\n"
                }
            ],
            "source": "LIMIT = 500\n\nOslo_venues = getNearbyVenues(names=df2['Neighborhood'],\n                              latitudes=df2['Latitude'],\n                              longitudes=df2['Longitude']\n                             )"
        },
        {
            "cell_type": "markdown",
            "metadata": {},
            "source": "We have obtained the business in the vinicity of every borough and the exact location of each one of them"
        },
        {
            "cell_type": "code",
            "execution_count": 59,
            "metadata": {},
            "outputs": [
                {
                    "name": "stdout",
                    "output_type": "stream",
                    "text": "(1245, 7)\n"
                },
                {
                    "data": {
                        "text/html": "<div>\n<style scoped>\n    .dataframe tbody tr th:only-of-type {\n        vertical-align: middle;\n    }\n\n    .dataframe tbody tr th {\n        vertical-align: top;\n    }\n\n    .dataframe thead th {\n        text-align: right;\n    }\n</style>\n<table border=\"1\" class=\"dataframe\">\n  <thead>\n    <tr style=\"text-align: right;\">\n      <th></th>\n      <th>Neighborhood</th>\n      <th>Neighborhood Latitude</th>\n      <th>Neighborhood Longitude</th>\n      <th>Venue</th>\n      <th>Venue Latitude</th>\n      <th>Venue Longitude</th>\n      <th>Venue Category</th>\n    </tr>\n  </thead>\n  <tbody>\n    <tr>\n      <th>0</th>\n      <td>Alna</td>\n      <td>59.932417</td>\n      <td>10.835276</td>\n      <td>Bikram Yoga</td>\n      <td>40.876844</td>\n      <td>-73.906204</td>\n      <td>Yoga Studio</td>\n    </tr>\n    <tr>\n      <th>1</th>\n      <td>Alna</td>\n      <td>59.932417</td>\n      <td>10.835276</td>\n      <td>Arturo's</td>\n      <td>40.874412</td>\n      <td>-73.910271</td>\n      <td>Pizza Place</td>\n    </tr>\n    <tr>\n      <th>2</th>\n      <td>Alna</td>\n      <td>59.932417</td>\n      <td>10.835276</td>\n      <td>Tibbett Diner</td>\n      <td>40.880404</td>\n      <td>-73.908937</td>\n      <td>Diner</td>\n    </tr>\n    <tr>\n      <th>3</th>\n      <td>Alna</td>\n      <td>59.932417</td>\n      <td>10.835276</td>\n      <td>Sam's Pizza</td>\n      <td>40.879435</td>\n      <td>-73.905859</td>\n      <td>Pizza Place</td>\n    </tr>\n    <tr>\n      <th>4</th>\n      <td>Alna</td>\n      <td>59.932417</td>\n      <td>10.835276</td>\n      <td>Starbucks</td>\n      <td>40.877531</td>\n      <td>-73.905582</td>\n      <td>Coffee Shop</td>\n    </tr>\n  </tbody>\n</table>\n</div>",
                        "text/plain": "  Neighborhood  Neighborhood Latitude  Neighborhood Longitude          Venue  \\\n0         Alna              59.932417               10.835276    Bikram Yoga   \n1         Alna              59.932417               10.835276       Arturo's   \n2         Alna              59.932417               10.835276  Tibbett Diner   \n3         Alna              59.932417               10.835276    Sam's Pizza   \n4         Alna              59.932417               10.835276      Starbucks   \n\n   Venue Latitude  Venue Longitude Venue Category  \n0       40.876844       -73.906204    Yoga Studio  \n1       40.874412       -73.910271    Pizza Place  \n2       40.880404       -73.908937          Diner  \n3       40.879435       -73.905859    Pizza Place  \n4       40.877531       -73.905582    Coffee Shop  "
                    },
                    "execution_count": 59,
                    "metadata": {},
                    "output_type": "execute_result"
                }
            ],
            "source": "print(Oslo_venues.shape)\nOslo_venues.head()"
        },
        {
            "cell_type": "code",
            "execution_count": 60,
            "metadata": {},
            "outputs": [
                {
                    "data": {
                        "text/html": "<div>\n<style scoped>\n    .dataframe tbody tr th:only-of-type {\n        vertical-align: middle;\n    }\n\n    .dataframe tbody tr th {\n        vertical-align: top;\n    }\n\n    .dataframe thead th {\n        text-align: right;\n    }\n</style>\n<table border=\"1\" class=\"dataframe\">\n  <thead>\n    <tr style=\"text-align: right;\">\n      <th></th>\n      <th>Neighborhood</th>\n      <th>Neighborhood Latitude</th>\n      <th>Neighborhood Longitude</th>\n      <th>Venue</th>\n      <th>Venue Latitude</th>\n      <th>Venue Longitude</th>\n      <th>Venue Category</th>\n    </tr>\n  </thead>\n  <tbody>\n    <tr>\n      <th>0</th>\n      <td>Alna</td>\n      <td>59.932417</td>\n      <td>10.835276</td>\n      <td>Bikram Yoga</td>\n      <td>40.876844</td>\n      <td>-73.906204</td>\n      <td>Yoga Studio</td>\n    </tr>\n    <tr>\n      <th>1</th>\n      <td>Alna</td>\n      <td>59.932417</td>\n      <td>10.835276</td>\n      <td>Arturo's</td>\n      <td>40.874412</td>\n      <td>-73.910271</td>\n      <td>Pizza Place</td>\n    </tr>\n    <tr>\n      <th>2</th>\n      <td>Alna</td>\n      <td>59.932417</td>\n      <td>10.835276</td>\n      <td>Tibbett Diner</td>\n      <td>40.880404</td>\n      <td>-73.908937</td>\n      <td>Diner</td>\n    </tr>\n    <tr>\n      <th>3</th>\n      <td>Alna</td>\n      <td>59.932417</td>\n      <td>10.835276</td>\n      <td>Sam's Pizza</td>\n      <td>40.879435</td>\n      <td>-73.905859</td>\n      <td>Pizza Place</td>\n    </tr>\n    <tr>\n      <th>4</th>\n      <td>Alna</td>\n      <td>59.932417</td>\n      <td>10.835276</td>\n      <td>Starbucks</td>\n      <td>40.877531</td>\n      <td>-73.905582</td>\n      <td>Coffee Shop</td>\n    </tr>\n    <tr>\n      <th>83</th>\n      <td>Bjerke</td>\n      <td>59.941395</td>\n      <td>10.829208</td>\n      <td>Bikram Yoga</td>\n      <td>40.876844</td>\n      <td>-73.906204</td>\n      <td>Yoga Studio</td>\n    </tr>\n    <tr>\n      <th>84</th>\n      <td>Bjerke</td>\n      <td>59.941395</td>\n      <td>10.829208</td>\n      <td>Arturo's</td>\n      <td>40.874412</td>\n      <td>-73.910271</td>\n      <td>Pizza Place</td>\n    </tr>\n    <tr>\n      <th>85</th>\n      <td>Bjerke</td>\n      <td>59.941395</td>\n      <td>10.829208</td>\n      <td>Tibbett Diner</td>\n      <td>40.880404</td>\n      <td>-73.908937</td>\n      <td>Diner</td>\n    </tr>\n    <tr>\n      <th>86</th>\n      <td>Bjerke</td>\n      <td>59.941395</td>\n      <td>10.829208</td>\n      <td>Sam's Pizza</td>\n      <td>40.879435</td>\n      <td>-73.905859</td>\n      <td>Pizza Place</td>\n    </tr>\n    <tr>\n      <th>87</th>\n      <td>Bjerke</td>\n      <td>59.941395</td>\n      <td>10.829208</td>\n      <td>Starbucks</td>\n      <td>40.877531</td>\n      <td>-73.905582</td>\n      <td>Coffee Shop</td>\n    </tr>\n    <tr>\n      <th>166</th>\n      <td>Frogner</td>\n      <td>59.922224</td>\n      <td>10.706649</td>\n      <td>Bikram Yoga</td>\n      <td>40.876844</td>\n      <td>-73.906204</td>\n      <td>Yoga Studio</td>\n    </tr>\n    <tr>\n      <th>167</th>\n      <td>Frogner</td>\n      <td>59.922224</td>\n      <td>10.706649</td>\n      <td>Arturo's</td>\n      <td>40.874412</td>\n      <td>-73.910271</td>\n      <td>Pizza Place</td>\n    </tr>\n    <tr>\n      <th>168</th>\n      <td>Frogner</td>\n      <td>59.922224</td>\n      <td>10.706649</td>\n      <td>Tibbett Diner</td>\n      <td>40.880404</td>\n      <td>-73.908937</td>\n      <td>Diner</td>\n    </tr>\n    <tr>\n      <th>169</th>\n      <td>Frogner</td>\n      <td>59.922224</td>\n      <td>10.706649</td>\n      <td>Sam's Pizza</td>\n      <td>40.879435</td>\n      <td>-73.905859</td>\n      <td>Pizza Place</td>\n    </tr>\n    <tr>\n      <th>170</th>\n      <td>Frogner</td>\n      <td>59.922224</td>\n      <td>10.706649</td>\n      <td>Starbucks</td>\n      <td>40.877531</td>\n      <td>-73.905582</td>\n      <td>Coffee Shop</td>\n    </tr>\n    <tr>\n      <th>249</th>\n      <td>Gamle Oslo</td>\n      <td>59.899237</td>\n      <td>10.734767</td>\n      <td>Bikram Yoga</td>\n      <td>40.876844</td>\n      <td>-73.906204</td>\n      <td>Yoga Studio</td>\n    </tr>\n    <tr>\n      <th>250</th>\n      <td>Gamle Oslo</td>\n      <td>59.899237</td>\n      <td>10.734767</td>\n      <td>Arturo's</td>\n      <td>40.874412</td>\n      <td>-73.910271</td>\n      <td>Pizza Place</td>\n    </tr>\n    <tr>\n      <th>251</th>\n      <td>Gamle Oslo</td>\n      <td>59.899237</td>\n      <td>10.734767</td>\n      <td>Tibbett Diner</td>\n      <td>40.880404</td>\n      <td>-73.908937</td>\n      <td>Diner</td>\n    </tr>\n    <tr>\n      <th>252</th>\n      <td>Gamle Oslo</td>\n      <td>59.899237</td>\n      <td>10.734767</td>\n      <td>Sam's Pizza</td>\n      <td>40.879435</td>\n      <td>-73.905859</td>\n      <td>Pizza Place</td>\n    </tr>\n    <tr>\n      <th>253</th>\n      <td>Gamle Oslo</td>\n      <td>59.899237</td>\n      <td>10.734767</td>\n      <td>Starbucks</td>\n      <td>40.877531</td>\n      <td>-73.905582</td>\n      <td>Coffee Shop</td>\n    </tr>\n    <tr>\n      <th>332</th>\n      <td>Grorud</td>\n      <td>59.961424</td>\n      <td>10.880549</td>\n      <td>Bikram Yoga</td>\n      <td>40.876844</td>\n      <td>-73.906204</td>\n      <td>Yoga Studio</td>\n    </tr>\n    <tr>\n      <th>333</th>\n      <td>Grorud</td>\n      <td>59.961424</td>\n      <td>10.880549</td>\n      <td>Arturo's</td>\n      <td>40.874412</td>\n      <td>-73.910271</td>\n      <td>Pizza Place</td>\n    </tr>\n    <tr>\n      <th>334</th>\n      <td>Grorud</td>\n      <td>59.961424</td>\n      <td>10.880549</td>\n      <td>Tibbett Diner</td>\n      <td>40.880404</td>\n      <td>-73.908937</td>\n      <td>Diner</td>\n    </tr>\n    <tr>\n      <th>335</th>\n      <td>Grorud</td>\n      <td>59.961424</td>\n      <td>10.880549</td>\n      <td>Sam's Pizza</td>\n      <td>40.879435</td>\n      <td>-73.905859</td>\n      <td>Pizza Place</td>\n    </tr>\n    <tr>\n      <th>336</th>\n      <td>Grorud</td>\n      <td>59.961424</td>\n      <td>10.880549</td>\n      <td>Starbucks</td>\n      <td>40.877531</td>\n      <td>-73.905582</td>\n      <td>Coffee Shop</td>\n    </tr>\n    <tr>\n      <th>415</th>\n      <td>Gr\u00fcnerl\u00f8kka</td>\n      <td>59.925471</td>\n      <td>10.777421</td>\n      <td>Bikram Yoga</td>\n      <td>40.876844</td>\n      <td>-73.906204</td>\n      <td>Yoga Studio</td>\n    </tr>\n    <tr>\n      <th>416</th>\n      <td>Gr\u00fcnerl\u00f8kka</td>\n      <td>59.925471</td>\n      <td>10.777421</td>\n      <td>Arturo's</td>\n      <td>40.874412</td>\n      <td>-73.910271</td>\n      <td>Pizza Place</td>\n    </tr>\n    <tr>\n      <th>417</th>\n      <td>Gr\u00fcnerl\u00f8kka</td>\n      <td>59.925471</td>\n      <td>10.777421</td>\n      <td>Tibbett Diner</td>\n      <td>40.880404</td>\n      <td>-73.908937</td>\n      <td>Diner</td>\n    </tr>\n    <tr>\n      <th>418</th>\n      <td>Gr\u00fcnerl\u00f8kka</td>\n      <td>59.925471</td>\n      <td>10.777421</td>\n      <td>Sam's Pizza</td>\n      <td>40.879435</td>\n      <td>-73.905859</td>\n      <td>Pizza Place</td>\n    </tr>\n    <tr>\n      <th>419</th>\n      <td>Gr\u00fcnerl\u00f8kka</td>\n      <td>59.925471</td>\n      <td>10.777421</td>\n      <td>Starbucks</td>\n      <td>40.877531</td>\n      <td>-73.905582</td>\n      <td>Coffee Shop</td>\n    </tr>\n    <tr>\n      <th>...</th>\n      <td>...</td>\n      <td>...</td>\n      <td>...</td>\n      <td>...</td>\n      <td>...</td>\n      <td>...</td>\n      <td>...</td>\n    </tr>\n    <tr>\n      <th>747</th>\n      <td>St. Hanshaugen</td>\n      <td>59.927950</td>\n      <td>10.738958</td>\n      <td>Bikram Yoga</td>\n      <td>40.876844</td>\n      <td>-73.906204</td>\n      <td>Yoga Studio</td>\n    </tr>\n    <tr>\n      <th>748</th>\n      <td>St. Hanshaugen</td>\n      <td>59.927950</td>\n      <td>10.738958</td>\n      <td>Arturo's</td>\n      <td>40.874412</td>\n      <td>-73.910271</td>\n      <td>Pizza Place</td>\n    </tr>\n    <tr>\n      <th>749</th>\n      <td>St. Hanshaugen</td>\n      <td>59.927950</td>\n      <td>10.738958</td>\n      <td>Tibbett Diner</td>\n      <td>40.880404</td>\n      <td>-73.908937</td>\n      <td>Diner</td>\n    </tr>\n    <tr>\n      <th>750</th>\n      <td>St. Hanshaugen</td>\n      <td>59.927950</td>\n      <td>10.738958</td>\n      <td>Sam's Pizza</td>\n      <td>40.879435</td>\n      <td>-73.905859</td>\n      <td>Pizza Place</td>\n    </tr>\n    <tr>\n      <th>751</th>\n      <td>St. Hanshaugen</td>\n      <td>59.927950</td>\n      <td>10.738958</td>\n      <td>Starbucks</td>\n      <td>40.877531</td>\n      <td>-73.905582</td>\n      <td>Coffee Shop</td>\n    </tr>\n    <tr>\n      <th>830</th>\n      <td>Stovner</td>\n      <td>59.962140</td>\n      <td>10.922823</td>\n      <td>Bikram Yoga</td>\n      <td>40.876844</td>\n      <td>-73.906204</td>\n      <td>Yoga Studio</td>\n    </tr>\n    <tr>\n      <th>831</th>\n      <td>Stovner</td>\n      <td>59.962140</td>\n      <td>10.922823</td>\n      <td>Arturo's</td>\n      <td>40.874412</td>\n      <td>-73.910271</td>\n      <td>Pizza Place</td>\n    </tr>\n    <tr>\n      <th>832</th>\n      <td>Stovner</td>\n      <td>59.962140</td>\n      <td>10.922823</td>\n      <td>Tibbett Diner</td>\n      <td>40.880404</td>\n      <td>-73.908937</td>\n      <td>Diner</td>\n    </tr>\n    <tr>\n      <th>833</th>\n      <td>Stovner</td>\n      <td>59.962140</td>\n      <td>10.922823</td>\n      <td>Sam's Pizza</td>\n      <td>40.879435</td>\n      <td>-73.905859</td>\n      <td>Pizza Place</td>\n    </tr>\n    <tr>\n      <th>834</th>\n      <td>Stovner</td>\n      <td>59.962140</td>\n      <td>10.922823</td>\n      <td>Starbucks</td>\n      <td>40.877531</td>\n      <td>-73.905582</td>\n      <td>Coffee Shop</td>\n    </tr>\n    <tr>\n      <th>913</th>\n      <td>S\u00f8ndre Nordstrand</td>\n      <td>59.835944</td>\n      <td>10.798496</td>\n      <td>Bikram Yoga</td>\n      <td>40.876844</td>\n      <td>-73.906204</td>\n      <td>Yoga Studio</td>\n    </tr>\n    <tr>\n      <th>914</th>\n      <td>S\u00f8ndre Nordstrand</td>\n      <td>59.835944</td>\n      <td>10.798496</td>\n      <td>Arturo's</td>\n      <td>40.874412</td>\n      <td>-73.910271</td>\n      <td>Pizza Place</td>\n    </tr>\n    <tr>\n      <th>915</th>\n      <td>S\u00f8ndre Nordstrand</td>\n      <td>59.835944</td>\n      <td>10.798496</td>\n      <td>Tibbett Diner</td>\n      <td>40.880404</td>\n      <td>-73.908937</td>\n      <td>Diner</td>\n    </tr>\n    <tr>\n      <th>916</th>\n      <td>S\u00f8ndre Nordstrand</td>\n      <td>59.835944</td>\n      <td>10.798496</td>\n      <td>Sam's Pizza</td>\n      <td>40.879435</td>\n      <td>-73.905859</td>\n      <td>Pizza Place</td>\n    </tr>\n    <tr>\n      <th>917</th>\n      <td>S\u00f8ndre Nordstrand</td>\n      <td>59.835944</td>\n      <td>10.798496</td>\n      <td>Starbucks</td>\n      <td>40.877531</td>\n      <td>-73.905582</td>\n      <td>Coffee Shop</td>\n    </tr>\n    <tr>\n      <th>996</th>\n      <td>Ullern</td>\n      <td>59.925818</td>\n      <td>10.665132</td>\n      <td>Bikram Yoga</td>\n      <td>40.876844</td>\n      <td>-73.906204</td>\n      <td>Yoga Studio</td>\n    </tr>\n    <tr>\n      <th>997</th>\n      <td>Ullern</td>\n      <td>59.925818</td>\n      <td>10.665132</td>\n      <td>Arturo's</td>\n      <td>40.874412</td>\n      <td>-73.910271</td>\n      <td>Pizza Place</td>\n    </tr>\n    <tr>\n      <th>998</th>\n      <td>Ullern</td>\n      <td>59.925818</td>\n      <td>10.665132</td>\n      <td>Tibbett Diner</td>\n      <td>40.880404</td>\n      <td>-73.908937</td>\n      <td>Diner</td>\n    </tr>\n    <tr>\n      <th>999</th>\n      <td>Ullern</td>\n      <td>59.925818</td>\n      <td>10.665132</td>\n      <td>Sam's Pizza</td>\n      <td>40.879435</td>\n      <td>-73.905859</td>\n      <td>Pizza Place</td>\n    </tr>\n    <tr>\n      <th>1000</th>\n      <td>Ullern</td>\n      <td>59.925818</td>\n      <td>10.665132</td>\n      <td>Starbucks</td>\n      <td>40.877531</td>\n      <td>-73.905582</td>\n      <td>Coffee Shop</td>\n    </tr>\n    <tr>\n      <th>1079</th>\n      <td>Vestre Aker</td>\n      <td>59.958300</td>\n      <td>10.670319</td>\n      <td>Bikram Yoga</td>\n      <td>40.876844</td>\n      <td>-73.906204</td>\n      <td>Yoga Studio</td>\n    </tr>\n    <tr>\n      <th>1080</th>\n      <td>Vestre Aker</td>\n      <td>59.958300</td>\n      <td>10.670319</td>\n      <td>Arturo's</td>\n      <td>40.874412</td>\n      <td>-73.910271</td>\n      <td>Pizza Place</td>\n    </tr>\n    <tr>\n      <th>1081</th>\n      <td>Vestre Aker</td>\n      <td>59.958300</td>\n      <td>10.670319</td>\n      <td>Tibbett Diner</td>\n      <td>40.880404</td>\n      <td>-73.908937</td>\n      <td>Diner</td>\n    </tr>\n    <tr>\n      <th>1082</th>\n      <td>Vestre Aker</td>\n      <td>59.958300</td>\n      <td>10.670319</td>\n      <td>Sam's Pizza</td>\n      <td>40.879435</td>\n      <td>-73.905859</td>\n      <td>Pizza Place</td>\n    </tr>\n    <tr>\n      <th>1083</th>\n      <td>Vestre Aker</td>\n      <td>59.958300</td>\n      <td>10.670319</td>\n      <td>Starbucks</td>\n      <td>40.877531</td>\n      <td>-73.905582</td>\n      <td>Coffee Shop</td>\n    </tr>\n    <tr>\n      <th>1162</th>\n      <td>\u00d8stensj\u00f8</td>\n      <td>59.887563</td>\n      <td>10.832748</td>\n      <td>Bikram Yoga</td>\n      <td>40.876844</td>\n      <td>-73.906204</td>\n      <td>Yoga Studio</td>\n    </tr>\n    <tr>\n      <th>1163</th>\n      <td>\u00d8stensj\u00f8</td>\n      <td>59.887563</td>\n      <td>10.832748</td>\n      <td>Arturo's</td>\n      <td>40.874412</td>\n      <td>-73.910271</td>\n      <td>Pizza Place</td>\n    </tr>\n    <tr>\n      <th>1164</th>\n      <td>\u00d8stensj\u00f8</td>\n      <td>59.887563</td>\n      <td>10.832748</td>\n      <td>Tibbett Diner</td>\n      <td>40.880404</td>\n      <td>-73.908937</td>\n      <td>Diner</td>\n    </tr>\n    <tr>\n      <th>1165</th>\n      <td>\u00d8stensj\u00f8</td>\n      <td>59.887563</td>\n      <td>10.832748</td>\n      <td>Sam's Pizza</td>\n      <td>40.879435</td>\n      <td>-73.905859</td>\n      <td>Pizza Place</td>\n    </tr>\n    <tr>\n      <th>1166</th>\n      <td>\u00d8stensj\u00f8</td>\n      <td>59.887563</td>\n      <td>10.832748</td>\n      <td>Starbucks</td>\n      <td>40.877531</td>\n      <td>-73.905582</td>\n      <td>Coffee Shop</td>\n    </tr>\n  </tbody>\n</table>\n<p>75 rows \u00d7 7 columns</p>\n</div>",
                        "text/plain": "           Neighborhood  Neighborhood Latitude  Neighborhood Longitude  \\\n0                  Alna              59.932417               10.835276   \n1                  Alna              59.932417               10.835276   \n2                  Alna              59.932417               10.835276   \n3                  Alna              59.932417               10.835276   \n4                  Alna              59.932417               10.835276   \n83               Bjerke              59.941395               10.829208   \n84               Bjerke              59.941395               10.829208   \n85               Bjerke              59.941395               10.829208   \n86               Bjerke              59.941395               10.829208   \n87               Bjerke              59.941395               10.829208   \n166             Frogner              59.922224               10.706649   \n167             Frogner              59.922224               10.706649   \n168             Frogner              59.922224               10.706649   \n169             Frogner              59.922224               10.706649   \n170             Frogner              59.922224               10.706649   \n249          Gamle Oslo              59.899237               10.734767   \n250          Gamle Oslo              59.899237               10.734767   \n251          Gamle Oslo              59.899237               10.734767   \n252          Gamle Oslo              59.899237               10.734767   \n253          Gamle Oslo              59.899237               10.734767   \n332              Grorud              59.961424               10.880549   \n333              Grorud              59.961424               10.880549   \n334              Grorud              59.961424               10.880549   \n335              Grorud              59.961424               10.880549   \n336              Grorud              59.961424               10.880549   \n415         Gr\u00fcnerl\u00f8kka              59.925471               10.777421   \n416         Gr\u00fcnerl\u00f8kka              59.925471               10.777421   \n417         Gr\u00fcnerl\u00f8kka              59.925471               10.777421   \n418         Gr\u00fcnerl\u00f8kka              59.925471               10.777421   \n419         Gr\u00fcnerl\u00f8kka              59.925471               10.777421   \n...                 ...                    ...                     ...   \n747      St. Hanshaugen              59.927950               10.738958   \n748      St. Hanshaugen              59.927950               10.738958   \n749      St. Hanshaugen              59.927950               10.738958   \n750      St. Hanshaugen              59.927950               10.738958   \n751      St. Hanshaugen              59.927950               10.738958   \n830             Stovner              59.962140               10.922823   \n831             Stovner              59.962140               10.922823   \n832             Stovner              59.962140               10.922823   \n833             Stovner              59.962140               10.922823   \n834             Stovner              59.962140               10.922823   \n913   S\u00f8ndre Nordstrand              59.835944               10.798496   \n914   S\u00f8ndre Nordstrand              59.835944               10.798496   \n915   S\u00f8ndre Nordstrand              59.835944               10.798496   \n916   S\u00f8ndre Nordstrand              59.835944               10.798496   \n917   S\u00f8ndre Nordstrand              59.835944               10.798496   \n996              Ullern              59.925818               10.665132   \n997              Ullern              59.925818               10.665132   \n998              Ullern              59.925818               10.665132   \n999              Ullern              59.925818               10.665132   \n1000             Ullern              59.925818               10.665132   \n1079        Vestre Aker              59.958300               10.670319   \n1080        Vestre Aker              59.958300               10.670319   \n1081        Vestre Aker              59.958300               10.670319   \n1082        Vestre Aker              59.958300               10.670319   \n1083        Vestre Aker              59.958300               10.670319   \n1162           \u00d8stensj\u00f8              59.887563               10.832748   \n1163           \u00d8stensj\u00f8              59.887563               10.832748   \n1164           \u00d8stensj\u00f8              59.887563               10.832748   \n1165           \u00d8stensj\u00f8              59.887563               10.832748   \n1166           \u00d8stensj\u00f8              59.887563               10.832748   \n\n              Venue  Venue Latitude  Venue Longitude Venue Category  \n0       Bikram Yoga       40.876844       -73.906204    Yoga Studio  \n1          Arturo's       40.874412       -73.910271    Pizza Place  \n2     Tibbett Diner       40.880404       -73.908937          Diner  \n3       Sam's Pizza       40.879435       -73.905859    Pizza Place  \n4         Starbucks       40.877531       -73.905582    Coffee Shop  \n83      Bikram Yoga       40.876844       -73.906204    Yoga Studio  \n84         Arturo's       40.874412       -73.910271    Pizza Place  \n85    Tibbett Diner       40.880404       -73.908937          Diner  \n86      Sam's Pizza       40.879435       -73.905859    Pizza Place  \n87        Starbucks       40.877531       -73.905582    Coffee Shop  \n166     Bikram Yoga       40.876844       -73.906204    Yoga Studio  \n167        Arturo's       40.874412       -73.910271    Pizza Place  \n168   Tibbett Diner       40.880404       -73.908937          Diner  \n169     Sam's Pizza       40.879435       -73.905859    Pizza Place  \n170       Starbucks       40.877531       -73.905582    Coffee Shop  \n249     Bikram Yoga       40.876844       -73.906204    Yoga Studio  \n250        Arturo's       40.874412       -73.910271    Pizza Place  \n251   Tibbett Diner       40.880404       -73.908937          Diner  \n252     Sam's Pizza       40.879435       -73.905859    Pizza Place  \n253       Starbucks       40.877531       -73.905582    Coffee Shop  \n332     Bikram Yoga       40.876844       -73.906204    Yoga Studio  \n333        Arturo's       40.874412       -73.910271    Pizza Place  \n334   Tibbett Diner       40.880404       -73.908937          Diner  \n335     Sam's Pizza       40.879435       -73.905859    Pizza Place  \n336       Starbucks       40.877531       -73.905582    Coffee Shop  \n415     Bikram Yoga       40.876844       -73.906204    Yoga Studio  \n416        Arturo's       40.874412       -73.910271    Pizza Place  \n417   Tibbett Diner       40.880404       -73.908937          Diner  \n418     Sam's Pizza       40.879435       -73.905859    Pizza Place  \n419       Starbucks       40.877531       -73.905582    Coffee Shop  \n...             ...             ...              ...            ...  \n747     Bikram Yoga       40.876844       -73.906204    Yoga Studio  \n748        Arturo's       40.874412       -73.910271    Pizza Place  \n749   Tibbett Diner       40.880404       -73.908937          Diner  \n750     Sam's Pizza       40.879435       -73.905859    Pizza Place  \n751       Starbucks       40.877531       -73.905582    Coffee Shop  \n830     Bikram Yoga       40.876844       -73.906204    Yoga Studio  \n831        Arturo's       40.874412       -73.910271    Pizza Place  \n832   Tibbett Diner       40.880404       -73.908937          Diner  \n833     Sam's Pizza       40.879435       -73.905859    Pizza Place  \n834       Starbucks       40.877531       -73.905582    Coffee Shop  \n913     Bikram Yoga       40.876844       -73.906204    Yoga Studio  \n914        Arturo's       40.874412       -73.910271    Pizza Place  \n915   Tibbett Diner       40.880404       -73.908937          Diner  \n916     Sam's Pizza       40.879435       -73.905859    Pizza Place  \n917       Starbucks       40.877531       -73.905582    Coffee Shop  \n996     Bikram Yoga       40.876844       -73.906204    Yoga Studio  \n997        Arturo's       40.874412       -73.910271    Pizza Place  \n998   Tibbett Diner       40.880404       -73.908937          Diner  \n999     Sam's Pizza       40.879435       -73.905859    Pizza Place  \n1000      Starbucks       40.877531       -73.905582    Coffee Shop  \n1079    Bikram Yoga       40.876844       -73.906204    Yoga Studio  \n1080       Arturo's       40.874412       -73.910271    Pizza Place  \n1081  Tibbett Diner       40.880404       -73.908937          Diner  \n1082    Sam's Pizza       40.879435       -73.905859    Pizza Place  \n1083      Starbucks       40.877531       -73.905582    Coffee Shop  \n1162    Bikram Yoga       40.876844       -73.906204    Yoga Studio  \n1163       Arturo's       40.874412       -73.910271    Pizza Place  \n1164  Tibbett Diner       40.880404       -73.908937          Diner  \n1165    Sam's Pizza       40.879435       -73.905859    Pizza Place  \n1166      Starbucks       40.877531       -73.905582    Coffee Shop  \n\n[75 rows x 7 columns]"
                    },
                    "execution_count": 60,
                    "metadata": {},
                    "output_type": "execute_result"
                }
            ],
            "source": "Oslo_venues.groupby('Neighborhood').head()"
        },
        {
            "cell_type": "code",
            "execution_count": 38,
            "metadata": {},
            "outputs": [
                {
                    "name": "stdout",
                    "output_type": "stream",
                    "text": "There are 52 uniques categories.\n"
                }
            ],
            "source": "print('There are {} uniques categories.'.format(len(Oslo_venues['Venue Category'].unique())))"
        },
        {
            "cell_type": "markdown",
            "metadata": {},
            "source": "# Analyze each neighborhood"
        },
        {
            "cell_type": "code",
            "execution_count": 39,
            "metadata": {},
            "outputs": [
                {
                    "data": {
                        "text/html": "<div>\n<style scoped>\n    .dataframe tbody tr th:only-of-type {\n        vertical-align: middle;\n    }\n\n    .dataframe tbody tr th {\n        vertical-align: top;\n    }\n\n    .dataframe thead th {\n        text-align: right;\n    }\n</style>\n<table border=\"1\" class=\"dataframe\">\n  <thead>\n    <tr style=\"text-align: right;\">\n      <th></th>\n      <th>Neighborhood</th>\n      <th>American Restaurant</th>\n      <th>Athletics &amp; Sports</th>\n      <th>Bakery</th>\n      <th>Bank</th>\n      <th>Bar</th>\n      <th>Bus Line</th>\n      <th>Bus Station</th>\n      <th>Caf\u00e9</th>\n      <th>Candy Store</th>\n      <th>...</th>\n      <th>Supermarket</th>\n      <th>Supplement Shop</th>\n      <th>Tennis Court</th>\n      <th>Tennis Stadium</th>\n      <th>Thai Restaurant</th>\n      <th>Thrift / Vintage Store</th>\n      <th>Trail</th>\n      <th>Video Game Store</th>\n      <th>Wine Shop</th>\n      <th>Yoga Studio</th>\n    </tr>\n  </thead>\n  <tbody>\n    <tr>\n      <th>0</th>\n      <td>Alna</td>\n      <td>0</td>\n      <td>0</td>\n      <td>0</td>\n      <td>0</td>\n      <td>0</td>\n      <td>0</td>\n      <td>0</td>\n      <td>0</td>\n      <td>0</td>\n      <td>...</td>\n      <td>0</td>\n      <td>0</td>\n      <td>0</td>\n      <td>0</td>\n      <td>0</td>\n      <td>0</td>\n      <td>0</td>\n      <td>0</td>\n      <td>0</td>\n      <td>1</td>\n    </tr>\n    <tr>\n      <th>1</th>\n      <td>Alna</td>\n      <td>0</td>\n      <td>0</td>\n      <td>0</td>\n      <td>0</td>\n      <td>0</td>\n      <td>0</td>\n      <td>0</td>\n      <td>0</td>\n      <td>0</td>\n      <td>...</td>\n      <td>0</td>\n      <td>0</td>\n      <td>0</td>\n      <td>0</td>\n      <td>0</td>\n      <td>0</td>\n      <td>0</td>\n      <td>0</td>\n      <td>0</td>\n      <td>0</td>\n    </tr>\n    <tr>\n      <th>2</th>\n      <td>Alna</td>\n      <td>0</td>\n      <td>0</td>\n      <td>0</td>\n      <td>0</td>\n      <td>0</td>\n      <td>0</td>\n      <td>0</td>\n      <td>0</td>\n      <td>0</td>\n      <td>...</td>\n      <td>0</td>\n      <td>0</td>\n      <td>0</td>\n      <td>0</td>\n      <td>0</td>\n      <td>0</td>\n      <td>0</td>\n      <td>0</td>\n      <td>0</td>\n      <td>0</td>\n    </tr>\n    <tr>\n      <th>3</th>\n      <td>Alna</td>\n      <td>0</td>\n      <td>0</td>\n      <td>0</td>\n      <td>0</td>\n      <td>0</td>\n      <td>0</td>\n      <td>0</td>\n      <td>0</td>\n      <td>0</td>\n      <td>...</td>\n      <td>0</td>\n      <td>0</td>\n      <td>0</td>\n      <td>0</td>\n      <td>0</td>\n      <td>0</td>\n      <td>0</td>\n      <td>0</td>\n      <td>0</td>\n      <td>0</td>\n    </tr>\n    <tr>\n      <th>4</th>\n      <td>Alna</td>\n      <td>0</td>\n      <td>0</td>\n      <td>0</td>\n      <td>0</td>\n      <td>0</td>\n      <td>0</td>\n      <td>0</td>\n      <td>0</td>\n      <td>0</td>\n      <td>...</td>\n      <td>0</td>\n      <td>0</td>\n      <td>0</td>\n      <td>0</td>\n      <td>0</td>\n      <td>0</td>\n      <td>0</td>\n      <td>0</td>\n      <td>0</td>\n      <td>0</td>\n    </tr>\n  </tbody>\n</table>\n<p>5 rows \u00d7 53 columns</p>\n</div>",
                        "text/plain": "  Neighborhood  American Restaurant  Athletics & Sports  Bakery  Bank  Bar  \\\n0         Alna                    0                   0       0     0    0   \n1         Alna                    0                   0       0     0    0   \n2         Alna                    0                   0       0     0    0   \n3         Alna                    0                   0       0     0    0   \n4         Alna                    0                   0       0     0    0   \n\n   Bus Line  Bus Station  Caf\u00e9  Candy Store  ...  Supermarket  \\\n0         0            0     0            0  ...            0   \n1         0            0     0            0  ...            0   \n2         0            0     0            0  ...            0   \n3         0            0     0            0  ...            0   \n4         0            0     0            0  ...            0   \n\n   Supplement Shop  Tennis Court  Tennis Stadium  Thai Restaurant  \\\n0                0             0               0                0   \n1                0             0               0                0   \n2                0             0               0                0   \n3                0             0               0                0   \n4                0             0               0                0   \n\n   Thrift / Vintage Store  Trail  Video Game Store  Wine Shop  Yoga Studio  \n0                       0      0                 0          0            1  \n1                       0      0                 0          0            0  \n2                       0      0                 0          0            0  \n3                       0      0                 0          0            0  \n4                       0      0                 0          0            0  \n\n[5 rows x 53 columns]"
                    },
                    "execution_count": 39,
                    "metadata": {},
                    "output_type": "execute_result"
                }
            ],
            "source": "import pandas as pd\n\n# one hot encoding\nOslo_onehot = pd.get_dummies(Oslo_venues[['Venue Category']], prefix=\"\", prefix_sep=\"\")\nOslo_onehot.head()\n\n# add neighborhood column back to dataframe. Creating two dataframes and binding them together instead of using column list.\n\nOslo_onehot2 = pd.DataFrame(Oslo_venues['Neighborhood'])\nOslo_onehot2\n\ndf_c = pd.concat([Oslo_onehot2, Oslo_onehot], axis=1)\n\nOslo_onehot = df_c\nOslo_onehot.head()\n\n#Oslo_onehot['Neighborhood'] = Oslo_venues['Neighborhood'] \n\n#cols = list(Oslo_onehot.columns)\n#cols = [cols[-1]] + cols[:-1]\n#df = Oslo_onehot[cols]\n\n\n# move neighborhood column to the first column\n#fixed_columns = [Oslo_onehot.columns[-1]] + list(Oslo_onehot.columns[:-1])\n#Oslo_onehot = Oslo_onehot[fixed_columns]\n\n#Oslo_onehot.head()\n"
        },
        {
            "cell_type": "markdown",
            "metadata": {},
            "source": "**Next, let's group rows by neighborhood and by taking the mean of the frequency of occurrence of each category**"
        },
        {
            "cell_type": "code",
            "execution_count": 40,
            "metadata": {},
            "outputs": [
                {
                    "data": {
                        "text/html": "<div>\n<style scoped>\n    .dataframe tbody tr th:only-of-type {\n        vertical-align: middle;\n    }\n\n    .dataframe tbody tr th {\n        vertical-align: top;\n    }\n\n    .dataframe thead th {\n        text-align: right;\n    }\n</style>\n<table border=\"1\" class=\"dataframe\">\n  <thead>\n    <tr style=\"text-align: right;\">\n      <th></th>\n      <th>Neighborhood</th>\n      <th>American Restaurant</th>\n      <th>Athletics &amp; Sports</th>\n      <th>Bakery</th>\n      <th>Bank</th>\n      <th>Bar</th>\n      <th>Bus Line</th>\n      <th>Bus Station</th>\n      <th>Caf\u00e9</th>\n      <th>Candy Store</th>\n      <th>...</th>\n      <th>Supermarket</th>\n      <th>Supplement Shop</th>\n      <th>Tennis Court</th>\n      <th>Tennis Stadium</th>\n      <th>Thai Restaurant</th>\n      <th>Thrift / Vintage Store</th>\n      <th>Trail</th>\n      <th>Video Game Store</th>\n      <th>Wine Shop</th>\n      <th>Yoga Studio</th>\n    </tr>\n  </thead>\n  <tbody>\n    <tr>\n      <th>0</th>\n      <td>Alna</td>\n      <td>0.024096</td>\n      <td>0.024096</td>\n      <td>0.024096</td>\n      <td>0.024096</td>\n      <td>0.012048</td>\n      <td>0.012048</td>\n      <td>0.012048</td>\n      <td>0.036145</td>\n      <td>0.012048</td>\n      <td>...</td>\n      <td>0.036145</td>\n      <td>0.012048</td>\n      <td>0.012048</td>\n      <td>0.012048</td>\n      <td>0.012048</td>\n      <td>0.012048</td>\n      <td>0.012048</td>\n      <td>0.012048</td>\n      <td>0.012048</td>\n      <td>0.012048</td>\n    </tr>\n    <tr>\n      <th>1</th>\n      <td>Bjerke</td>\n      <td>0.024096</td>\n      <td>0.024096</td>\n      <td>0.024096</td>\n      <td>0.024096</td>\n      <td>0.012048</td>\n      <td>0.012048</td>\n      <td>0.012048</td>\n      <td>0.036145</td>\n      <td>0.012048</td>\n      <td>...</td>\n      <td>0.036145</td>\n      <td>0.012048</td>\n      <td>0.012048</td>\n      <td>0.012048</td>\n      <td>0.012048</td>\n      <td>0.012048</td>\n      <td>0.012048</td>\n      <td>0.012048</td>\n      <td>0.012048</td>\n      <td>0.012048</td>\n    </tr>\n    <tr>\n      <th>2</th>\n      <td>Frogner</td>\n      <td>0.024096</td>\n      <td>0.024096</td>\n      <td>0.024096</td>\n      <td>0.024096</td>\n      <td>0.012048</td>\n      <td>0.012048</td>\n      <td>0.012048</td>\n      <td>0.036145</td>\n      <td>0.012048</td>\n      <td>...</td>\n      <td>0.036145</td>\n      <td>0.012048</td>\n      <td>0.012048</td>\n      <td>0.012048</td>\n      <td>0.012048</td>\n      <td>0.012048</td>\n      <td>0.012048</td>\n      <td>0.012048</td>\n      <td>0.012048</td>\n      <td>0.012048</td>\n    </tr>\n    <tr>\n      <th>3</th>\n      <td>Gamle Oslo</td>\n      <td>0.024096</td>\n      <td>0.024096</td>\n      <td>0.024096</td>\n      <td>0.024096</td>\n      <td>0.012048</td>\n      <td>0.012048</td>\n      <td>0.012048</td>\n      <td>0.036145</td>\n      <td>0.012048</td>\n      <td>...</td>\n      <td>0.036145</td>\n      <td>0.012048</td>\n      <td>0.012048</td>\n      <td>0.012048</td>\n      <td>0.012048</td>\n      <td>0.012048</td>\n      <td>0.012048</td>\n      <td>0.012048</td>\n      <td>0.012048</td>\n      <td>0.012048</td>\n    </tr>\n    <tr>\n      <th>4</th>\n      <td>Grorud</td>\n      <td>0.024096</td>\n      <td>0.024096</td>\n      <td>0.024096</td>\n      <td>0.024096</td>\n      <td>0.012048</td>\n      <td>0.012048</td>\n      <td>0.012048</td>\n      <td>0.036145</td>\n      <td>0.012048</td>\n      <td>...</td>\n      <td>0.036145</td>\n      <td>0.012048</td>\n      <td>0.012048</td>\n      <td>0.012048</td>\n      <td>0.012048</td>\n      <td>0.012048</td>\n      <td>0.012048</td>\n      <td>0.012048</td>\n      <td>0.012048</td>\n      <td>0.012048</td>\n    </tr>\n    <tr>\n      <th>5</th>\n      <td>Gr\u00fcnerl\u00f8kka</td>\n      <td>0.024096</td>\n      <td>0.024096</td>\n      <td>0.024096</td>\n      <td>0.024096</td>\n      <td>0.012048</td>\n      <td>0.012048</td>\n      <td>0.012048</td>\n      <td>0.036145</td>\n      <td>0.012048</td>\n      <td>...</td>\n      <td>0.036145</td>\n      <td>0.012048</td>\n      <td>0.012048</td>\n      <td>0.012048</td>\n      <td>0.012048</td>\n      <td>0.012048</td>\n      <td>0.012048</td>\n      <td>0.012048</td>\n      <td>0.012048</td>\n      <td>0.012048</td>\n    </tr>\n    <tr>\n      <th>6</th>\n      <td>Nordre Aker</td>\n      <td>0.024096</td>\n      <td>0.024096</td>\n      <td>0.024096</td>\n      <td>0.024096</td>\n      <td>0.012048</td>\n      <td>0.012048</td>\n      <td>0.012048</td>\n      <td>0.036145</td>\n      <td>0.012048</td>\n      <td>...</td>\n      <td>0.036145</td>\n      <td>0.012048</td>\n      <td>0.012048</td>\n      <td>0.012048</td>\n      <td>0.012048</td>\n      <td>0.012048</td>\n      <td>0.012048</td>\n      <td>0.012048</td>\n      <td>0.012048</td>\n      <td>0.012048</td>\n    </tr>\n    <tr>\n      <th>7</th>\n      <td>Nordstrand</td>\n      <td>0.024096</td>\n      <td>0.024096</td>\n      <td>0.024096</td>\n      <td>0.024096</td>\n      <td>0.012048</td>\n      <td>0.012048</td>\n      <td>0.012048</td>\n      <td>0.036145</td>\n      <td>0.012048</td>\n      <td>...</td>\n      <td>0.036145</td>\n      <td>0.012048</td>\n      <td>0.012048</td>\n      <td>0.012048</td>\n      <td>0.012048</td>\n      <td>0.012048</td>\n      <td>0.012048</td>\n      <td>0.012048</td>\n      <td>0.012048</td>\n      <td>0.012048</td>\n    </tr>\n    <tr>\n      <th>8</th>\n      <td>Sagene</td>\n      <td>0.024096</td>\n      <td>0.024096</td>\n      <td>0.024096</td>\n      <td>0.024096</td>\n      <td>0.012048</td>\n      <td>0.012048</td>\n      <td>0.012048</td>\n      <td>0.036145</td>\n      <td>0.012048</td>\n      <td>...</td>\n      <td>0.036145</td>\n      <td>0.012048</td>\n      <td>0.012048</td>\n      <td>0.012048</td>\n      <td>0.012048</td>\n      <td>0.012048</td>\n      <td>0.012048</td>\n      <td>0.012048</td>\n      <td>0.012048</td>\n      <td>0.012048</td>\n    </tr>\n    <tr>\n      <th>9</th>\n      <td>St. Hanshaugen</td>\n      <td>0.024096</td>\n      <td>0.024096</td>\n      <td>0.024096</td>\n      <td>0.024096</td>\n      <td>0.012048</td>\n      <td>0.012048</td>\n      <td>0.012048</td>\n      <td>0.036145</td>\n      <td>0.012048</td>\n      <td>...</td>\n      <td>0.036145</td>\n      <td>0.012048</td>\n      <td>0.012048</td>\n      <td>0.012048</td>\n      <td>0.012048</td>\n      <td>0.012048</td>\n      <td>0.012048</td>\n      <td>0.012048</td>\n      <td>0.012048</td>\n      <td>0.012048</td>\n    </tr>\n    <tr>\n      <th>10</th>\n      <td>Stovner</td>\n      <td>0.024096</td>\n      <td>0.024096</td>\n      <td>0.024096</td>\n      <td>0.024096</td>\n      <td>0.012048</td>\n      <td>0.012048</td>\n      <td>0.012048</td>\n      <td>0.036145</td>\n      <td>0.012048</td>\n      <td>...</td>\n      <td>0.036145</td>\n      <td>0.012048</td>\n      <td>0.012048</td>\n      <td>0.012048</td>\n      <td>0.012048</td>\n      <td>0.012048</td>\n      <td>0.012048</td>\n      <td>0.012048</td>\n      <td>0.012048</td>\n      <td>0.012048</td>\n    </tr>\n    <tr>\n      <th>11</th>\n      <td>S\u00f8ndre Nordstrand</td>\n      <td>0.024096</td>\n      <td>0.024096</td>\n      <td>0.024096</td>\n      <td>0.024096</td>\n      <td>0.012048</td>\n      <td>0.012048</td>\n      <td>0.012048</td>\n      <td>0.036145</td>\n      <td>0.012048</td>\n      <td>...</td>\n      <td>0.036145</td>\n      <td>0.012048</td>\n      <td>0.012048</td>\n      <td>0.012048</td>\n      <td>0.012048</td>\n      <td>0.012048</td>\n      <td>0.012048</td>\n      <td>0.012048</td>\n      <td>0.012048</td>\n      <td>0.012048</td>\n    </tr>\n    <tr>\n      <th>12</th>\n      <td>Ullern</td>\n      <td>0.024096</td>\n      <td>0.024096</td>\n      <td>0.024096</td>\n      <td>0.024096</td>\n      <td>0.012048</td>\n      <td>0.012048</td>\n      <td>0.012048</td>\n      <td>0.036145</td>\n      <td>0.012048</td>\n      <td>...</td>\n      <td>0.036145</td>\n      <td>0.012048</td>\n      <td>0.012048</td>\n      <td>0.012048</td>\n      <td>0.012048</td>\n      <td>0.012048</td>\n      <td>0.012048</td>\n      <td>0.012048</td>\n      <td>0.012048</td>\n      <td>0.012048</td>\n    </tr>\n    <tr>\n      <th>13</th>\n      <td>Vestre Aker</td>\n      <td>0.024096</td>\n      <td>0.024096</td>\n      <td>0.024096</td>\n      <td>0.024096</td>\n      <td>0.012048</td>\n      <td>0.012048</td>\n      <td>0.012048</td>\n      <td>0.036145</td>\n      <td>0.012048</td>\n      <td>...</td>\n      <td>0.036145</td>\n      <td>0.012048</td>\n      <td>0.012048</td>\n      <td>0.012048</td>\n      <td>0.012048</td>\n      <td>0.012048</td>\n      <td>0.012048</td>\n      <td>0.012048</td>\n      <td>0.012048</td>\n      <td>0.012048</td>\n    </tr>\n    <tr>\n      <th>14</th>\n      <td>\u00d8stensj\u00f8</td>\n      <td>0.024096</td>\n      <td>0.024096</td>\n      <td>0.024096</td>\n      <td>0.024096</td>\n      <td>0.012048</td>\n      <td>0.012048</td>\n      <td>0.012048</td>\n      <td>0.036145</td>\n      <td>0.012048</td>\n      <td>...</td>\n      <td>0.036145</td>\n      <td>0.012048</td>\n      <td>0.012048</td>\n      <td>0.012048</td>\n      <td>0.012048</td>\n      <td>0.012048</td>\n      <td>0.012048</td>\n      <td>0.012048</td>\n      <td>0.012048</td>\n      <td>0.012048</td>\n    </tr>\n  </tbody>\n</table>\n<p>15 rows \u00d7 53 columns</p>\n</div>",
                        "text/plain": "         Neighborhood  American Restaurant  Athletics & Sports    Bakery  \\\n0                Alna             0.024096            0.024096  0.024096   \n1              Bjerke             0.024096            0.024096  0.024096   \n2             Frogner             0.024096            0.024096  0.024096   \n3          Gamle Oslo             0.024096            0.024096  0.024096   \n4              Grorud             0.024096            0.024096  0.024096   \n5         Gr\u00fcnerl\u00f8kka             0.024096            0.024096  0.024096   \n6         Nordre Aker             0.024096            0.024096  0.024096   \n7          Nordstrand             0.024096            0.024096  0.024096   \n8              Sagene             0.024096            0.024096  0.024096   \n9      St. Hanshaugen             0.024096            0.024096  0.024096   \n10            Stovner             0.024096            0.024096  0.024096   \n11  S\u00f8ndre Nordstrand             0.024096            0.024096  0.024096   \n12             Ullern             0.024096            0.024096  0.024096   \n13        Vestre Aker             0.024096            0.024096  0.024096   \n14           \u00d8stensj\u00f8             0.024096            0.024096  0.024096   \n\n        Bank       Bar  Bus Line  Bus Station      Caf\u00e9  Candy Store  ...  \\\n0   0.024096  0.012048  0.012048     0.012048  0.036145     0.012048  ...   \n1   0.024096  0.012048  0.012048     0.012048  0.036145     0.012048  ...   \n2   0.024096  0.012048  0.012048     0.012048  0.036145     0.012048  ...   \n3   0.024096  0.012048  0.012048     0.012048  0.036145     0.012048  ...   \n4   0.024096  0.012048  0.012048     0.012048  0.036145     0.012048  ...   \n5   0.024096  0.012048  0.012048     0.012048  0.036145     0.012048  ...   \n6   0.024096  0.012048  0.012048     0.012048  0.036145     0.012048  ...   \n7   0.024096  0.012048  0.012048     0.012048  0.036145     0.012048  ...   \n8   0.024096  0.012048  0.012048     0.012048  0.036145     0.012048  ...   \n9   0.024096  0.012048  0.012048     0.012048  0.036145     0.012048  ...   \n10  0.024096  0.012048  0.012048     0.012048  0.036145     0.012048  ...   \n11  0.024096  0.012048  0.012048     0.012048  0.036145     0.012048  ...   \n12  0.024096  0.012048  0.012048     0.012048  0.036145     0.012048  ...   \n13  0.024096  0.012048  0.012048     0.012048  0.036145     0.012048  ...   \n14  0.024096  0.012048  0.012048     0.012048  0.036145     0.012048  ...   \n\n    Supermarket  Supplement Shop  Tennis Court  Tennis Stadium  \\\n0      0.036145         0.012048      0.012048        0.012048   \n1      0.036145         0.012048      0.012048        0.012048   \n2      0.036145         0.012048      0.012048        0.012048   \n3      0.036145         0.012048      0.012048        0.012048   \n4      0.036145         0.012048      0.012048        0.012048   \n5      0.036145         0.012048      0.012048        0.012048   \n6      0.036145         0.012048      0.012048        0.012048   \n7      0.036145         0.012048      0.012048        0.012048   \n8      0.036145         0.012048      0.012048        0.012048   \n9      0.036145         0.012048      0.012048        0.012048   \n10     0.036145         0.012048      0.012048        0.012048   \n11     0.036145         0.012048      0.012048        0.012048   \n12     0.036145         0.012048      0.012048        0.012048   \n13     0.036145         0.012048      0.012048        0.012048   \n14     0.036145         0.012048      0.012048        0.012048   \n\n    Thai Restaurant  Thrift / Vintage Store     Trail  Video Game Store  \\\n0          0.012048                0.012048  0.012048          0.012048   \n1          0.012048                0.012048  0.012048          0.012048   \n2          0.012048                0.012048  0.012048          0.012048   \n3          0.012048                0.012048  0.012048          0.012048   \n4          0.012048                0.012048  0.012048          0.012048   \n5          0.012048                0.012048  0.012048          0.012048   \n6          0.012048                0.012048  0.012048          0.012048   \n7          0.012048                0.012048  0.012048          0.012048   \n8          0.012048                0.012048  0.012048          0.012048   \n9          0.012048                0.012048  0.012048          0.012048   \n10         0.012048                0.012048  0.012048          0.012048   \n11         0.012048                0.012048  0.012048          0.012048   \n12         0.012048                0.012048  0.012048          0.012048   \n13         0.012048                0.012048  0.012048          0.012048   \n14         0.012048                0.012048  0.012048          0.012048   \n\n    Wine Shop  Yoga Studio  \n0    0.012048     0.012048  \n1    0.012048     0.012048  \n2    0.012048     0.012048  \n3    0.012048     0.012048  \n4    0.012048     0.012048  \n5    0.012048     0.012048  \n6    0.012048     0.012048  \n7    0.012048     0.012048  \n8    0.012048     0.012048  \n9    0.012048     0.012048  \n10   0.012048     0.012048  \n11   0.012048     0.012048  \n12   0.012048     0.012048  \n13   0.012048     0.012048  \n14   0.012048     0.012048  \n\n[15 rows x 53 columns]"
                    },
                    "execution_count": 40,
                    "metadata": {},
                    "output_type": "execute_result"
                }
            ],
            "source": "Oslo_grouped = Oslo_onehot.groupby('Neighborhood').mean().reset_index()\nOslo_grouped"
        },
        {
            "cell_type": "markdown",
            "metadata": {},
            "source": "**Let's confirm the new size**"
        },
        {
            "cell_type": "code",
            "execution_count": 41,
            "metadata": {},
            "outputs": [
                {
                    "data": {
                        "text/plain": "(15, 53)"
                    },
                    "execution_count": 41,
                    "metadata": {},
                    "output_type": "execute_result"
                }
            ],
            "source": "Oslo_grouped.shape"
        },
        {
            "cell_type": "markdown",
            "metadata": {},
            "source": "**Let's print each neighborhood along with the top 5 most common venues**"
        },
        {
            "cell_type": "code",
            "execution_count": 45,
            "metadata": {},
            "outputs": [
                {
                    "name": "stdout",
                    "output_type": "stream",
                    "text": "----Alna----\n                venue  freq\n0                Park  0.07\n1         Pizza Place  0.06\n2      Sandwich Place  0.05\n3                Caf\u00e9  0.04\n4  Mexican Restaurant  0.04\n\n\n----Bjerke----\n                venue  freq\n0                Park  0.07\n1         Pizza Place  0.06\n2      Sandwich Place  0.05\n3                Caf\u00e9  0.04\n4  Mexican Restaurant  0.04\n\n\n----Frogner----\n                venue  freq\n0                Park  0.07\n1         Pizza Place  0.06\n2      Sandwich Place  0.05\n3                Caf\u00e9  0.04\n4  Mexican Restaurant  0.04\n\n\n----Gamle Oslo----\n                venue  freq\n0                Park  0.07\n1         Pizza Place  0.06\n2      Sandwich Place  0.05\n3                Caf\u00e9  0.04\n4  Mexican Restaurant  0.04\n\n\n----Grorud----\n                venue  freq\n0                Park  0.07\n1         Pizza Place  0.06\n2      Sandwich Place  0.05\n3                Caf\u00e9  0.04\n4  Mexican Restaurant  0.04\n\n\n----Gr\u00fcnerl\u00f8kka----\n                venue  freq\n0                Park  0.07\n1         Pizza Place  0.06\n2      Sandwich Place  0.05\n3                Caf\u00e9  0.04\n4  Mexican Restaurant  0.04\n\n\n----Nordre Aker----\n                venue  freq\n0                Park  0.07\n1         Pizza Place  0.06\n2      Sandwich Place  0.05\n3                Caf\u00e9  0.04\n4  Mexican Restaurant  0.04\n\n\n----Nordstrand----\n                venue  freq\n0                Park  0.07\n1         Pizza Place  0.06\n2      Sandwich Place  0.05\n3                Caf\u00e9  0.04\n4  Mexican Restaurant  0.04\n\n\n----Sagene----\n                venue  freq\n0                Park  0.07\n1         Pizza Place  0.06\n2      Sandwich Place  0.05\n3                Caf\u00e9  0.04\n4  Mexican Restaurant  0.04\n\n\n----St. Hanshaugen----\n                venue  freq\n0                Park  0.07\n1         Pizza Place  0.06\n2      Sandwich Place  0.05\n3                Caf\u00e9  0.04\n4  Mexican Restaurant  0.04\n\n\n----Stovner----\n                venue  freq\n0                Park  0.07\n1         Pizza Place  0.06\n2      Sandwich Place  0.05\n3                Caf\u00e9  0.04\n4  Mexican Restaurant  0.04\n\n\n----S\u00f8ndre Nordstrand----\n                venue  freq\n0                Park  0.07\n1         Pizza Place  0.06\n2      Sandwich Place  0.05\n3                Caf\u00e9  0.04\n4  Mexican Restaurant  0.04\n\n\n----Ullern----\n                venue  freq\n0                Park  0.07\n1         Pizza Place  0.06\n2      Sandwich Place  0.05\n3                Caf\u00e9  0.04\n4  Mexican Restaurant  0.04\n\n\n----Vestre Aker----\n                venue  freq\n0                Park  0.07\n1         Pizza Place  0.06\n2      Sandwich Place  0.05\n3                Caf\u00e9  0.04\n4  Mexican Restaurant  0.04\n\n\n----\u00d8stensj\u00f8----\n                venue  freq\n0                Park  0.07\n1         Pizza Place  0.06\n2      Sandwich Place  0.05\n3                Caf\u00e9  0.04\n4  Mexican Restaurant  0.04\n\n\n"
                }
            ],
            "source": "num_top_venues = 5\n\nfor hood in Oslo_grouped['Neighborhood']:\n    print(\"----\"+hood+\"----\")\n    temp = Oslo_grouped[Oslo_grouped['Neighborhood'] == hood].T.reset_index()\n    temp.columns = ['venue','freq']\n    temp = temp.iloc[1:]\n    temp['freq'] = temp['freq'].astype(float)\n    temp = temp.round({'freq': 2})\n    print(temp.sort_values('freq', ascending=False).reset_index(drop=True).head(num_top_venues))\n    print('\\n')"
        },
        {
            "cell_type": "markdown",
            "metadata": {},
            "source": "**Let's put that into a pandas dataframe**"
        },
        {
            "cell_type": "code",
            "execution_count": 46,
            "metadata": {},
            "outputs": [],
            "source": "def return_most_common_venues(row, num_top_venues):\n    row_categories = row.iloc[1:]\n    row_categories_sorted = row_categories.sort_values(ascending=False)\n    \n    return row_categories_sorted.index.values[0:num_top_venues]"
        },
        {
            "cell_type": "markdown",
            "metadata": {},
            "source": "Now let's create the new dataframe and display the top 10 venues for each neighborhood."
        },
        {
            "cell_type": "code",
            "execution_count": 62,
            "metadata": {},
            "outputs": [
                {
                    "data": {
                        "text/html": "<div>\n<style scoped>\n    .dataframe tbody tr th:only-of-type {\n        vertical-align: middle;\n    }\n\n    .dataframe tbody tr th {\n        vertical-align: top;\n    }\n\n    .dataframe thead th {\n        text-align: right;\n    }\n</style>\n<table border=\"1\" class=\"dataframe\">\n  <thead>\n    <tr style=\"text-align: right;\">\n      <th></th>\n      <th>Neighborhood</th>\n      <th>1st Most Common Venue</th>\n      <th>2nd Most Common Venue</th>\n      <th>3rd Most Common Venue</th>\n      <th>4th Most Common Venue</th>\n      <th>5th Most Common Venue</th>\n      <th>6th Most Common Venue</th>\n      <th>7th Most Common Venue</th>\n      <th>8th Most Common Venue</th>\n      <th>9th Most Common Venue</th>\n      <th>10th Most Common Venue</th>\n    </tr>\n  </thead>\n  <tbody>\n    <tr>\n      <th>0</th>\n      <td>Alna</td>\n      <td>Park</td>\n      <td>Pizza Place</td>\n      <td>Sandwich Place</td>\n      <td>Mexican Restaurant</td>\n      <td>Donut Shop</td>\n      <td>Caf\u00e9</td>\n      <td>Supermarket</td>\n      <td>Spanish Restaurant</td>\n      <td>American Restaurant</td>\n      <td>Scenic Lookout</td>\n    </tr>\n    <tr>\n      <th>1</th>\n      <td>Bjerke</td>\n      <td>Park</td>\n      <td>Pizza Place</td>\n      <td>Sandwich Place</td>\n      <td>Mexican Restaurant</td>\n      <td>Donut Shop</td>\n      <td>Caf\u00e9</td>\n      <td>Supermarket</td>\n      <td>Spanish Restaurant</td>\n      <td>American Restaurant</td>\n      <td>Scenic Lookout</td>\n    </tr>\n    <tr>\n      <th>2</th>\n      <td>Frogner</td>\n      <td>Park</td>\n      <td>Pizza Place</td>\n      <td>Sandwich Place</td>\n      <td>Mexican Restaurant</td>\n      <td>Donut Shop</td>\n      <td>Caf\u00e9</td>\n      <td>Supermarket</td>\n      <td>Spanish Restaurant</td>\n      <td>American Restaurant</td>\n      <td>Scenic Lookout</td>\n    </tr>\n    <tr>\n      <th>3</th>\n      <td>Gamle Oslo</td>\n      <td>Park</td>\n      <td>Pizza Place</td>\n      <td>Sandwich Place</td>\n      <td>Mexican Restaurant</td>\n      <td>Donut Shop</td>\n      <td>Caf\u00e9</td>\n      <td>Supermarket</td>\n      <td>Spanish Restaurant</td>\n      <td>American Restaurant</td>\n      <td>Scenic Lookout</td>\n    </tr>\n    <tr>\n      <th>4</th>\n      <td>Grorud</td>\n      <td>Park</td>\n      <td>Pizza Place</td>\n      <td>Sandwich Place</td>\n      <td>Mexican Restaurant</td>\n      <td>Donut Shop</td>\n      <td>Caf\u00e9</td>\n      <td>Supermarket</td>\n      <td>Spanish Restaurant</td>\n      <td>American Restaurant</td>\n      <td>Scenic Lookout</td>\n    </tr>\n    <tr>\n      <th>5</th>\n      <td>Gr\u00fcnerl\u00f8kka</td>\n      <td>Park</td>\n      <td>Pizza Place</td>\n      <td>Sandwich Place</td>\n      <td>Mexican Restaurant</td>\n      <td>Donut Shop</td>\n      <td>Caf\u00e9</td>\n      <td>Supermarket</td>\n      <td>Spanish Restaurant</td>\n      <td>American Restaurant</td>\n      <td>Scenic Lookout</td>\n    </tr>\n    <tr>\n      <th>6</th>\n      <td>Nordre Aker</td>\n      <td>Park</td>\n      <td>Pizza Place</td>\n      <td>Sandwich Place</td>\n      <td>Mexican Restaurant</td>\n      <td>Donut Shop</td>\n      <td>Caf\u00e9</td>\n      <td>Supermarket</td>\n      <td>Spanish Restaurant</td>\n      <td>American Restaurant</td>\n      <td>Scenic Lookout</td>\n    </tr>\n    <tr>\n      <th>7</th>\n      <td>Nordstrand</td>\n      <td>Park</td>\n      <td>Pizza Place</td>\n      <td>Sandwich Place</td>\n      <td>Mexican Restaurant</td>\n      <td>Donut Shop</td>\n      <td>Caf\u00e9</td>\n      <td>Supermarket</td>\n      <td>Spanish Restaurant</td>\n      <td>American Restaurant</td>\n      <td>Scenic Lookout</td>\n    </tr>\n    <tr>\n      <th>8</th>\n      <td>Sagene</td>\n      <td>Park</td>\n      <td>Pizza Place</td>\n      <td>Sandwich Place</td>\n      <td>Mexican Restaurant</td>\n      <td>Donut Shop</td>\n      <td>Caf\u00e9</td>\n      <td>Supermarket</td>\n      <td>Spanish Restaurant</td>\n      <td>American Restaurant</td>\n      <td>Scenic Lookout</td>\n    </tr>\n    <tr>\n      <th>9</th>\n      <td>St. Hanshaugen</td>\n      <td>Park</td>\n      <td>Pizza Place</td>\n      <td>Sandwich Place</td>\n      <td>Mexican Restaurant</td>\n      <td>Donut Shop</td>\n      <td>Caf\u00e9</td>\n      <td>Supermarket</td>\n      <td>Spanish Restaurant</td>\n      <td>American Restaurant</td>\n      <td>Scenic Lookout</td>\n    </tr>\n    <tr>\n      <th>10</th>\n      <td>Stovner</td>\n      <td>Park</td>\n      <td>Pizza Place</td>\n      <td>Sandwich Place</td>\n      <td>Mexican Restaurant</td>\n      <td>Donut Shop</td>\n      <td>Caf\u00e9</td>\n      <td>Supermarket</td>\n      <td>Spanish Restaurant</td>\n      <td>American Restaurant</td>\n      <td>Scenic Lookout</td>\n    </tr>\n    <tr>\n      <th>11</th>\n      <td>S\u00f8ndre Nordstrand</td>\n      <td>Park</td>\n      <td>Pizza Place</td>\n      <td>Sandwich Place</td>\n      <td>Mexican Restaurant</td>\n      <td>Donut Shop</td>\n      <td>Caf\u00e9</td>\n      <td>Supermarket</td>\n      <td>Spanish Restaurant</td>\n      <td>American Restaurant</td>\n      <td>Scenic Lookout</td>\n    </tr>\n    <tr>\n      <th>12</th>\n      <td>Ullern</td>\n      <td>Park</td>\n      <td>Pizza Place</td>\n      <td>Sandwich Place</td>\n      <td>Mexican Restaurant</td>\n      <td>Donut Shop</td>\n      <td>Caf\u00e9</td>\n      <td>Supermarket</td>\n      <td>Spanish Restaurant</td>\n      <td>American Restaurant</td>\n      <td>Scenic Lookout</td>\n    </tr>\n    <tr>\n      <th>13</th>\n      <td>Vestre Aker</td>\n      <td>Park</td>\n      <td>Pizza Place</td>\n      <td>Sandwich Place</td>\n      <td>Mexican Restaurant</td>\n      <td>Donut Shop</td>\n      <td>Caf\u00e9</td>\n      <td>Supermarket</td>\n      <td>Spanish Restaurant</td>\n      <td>American Restaurant</td>\n      <td>Scenic Lookout</td>\n    </tr>\n    <tr>\n      <th>14</th>\n      <td>\u00d8stensj\u00f8</td>\n      <td>Park</td>\n      <td>Pizza Place</td>\n      <td>Sandwich Place</td>\n      <td>Mexican Restaurant</td>\n      <td>Donut Shop</td>\n      <td>Caf\u00e9</td>\n      <td>Supermarket</td>\n      <td>Spanish Restaurant</td>\n      <td>American Restaurant</td>\n      <td>Scenic Lookout</td>\n    </tr>\n  </tbody>\n</table>\n</div>",
                        "text/plain": "         Neighborhood 1st Most Common Venue 2nd Most Common Venue  \\\n0                Alna                  Park           Pizza Place   \n1              Bjerke                  Park           Pizza Place   \n2             Frogner                  Park           Pizza Place   \n3          Gamle Oslo                  Park           Pizza Place   \n4              Grorud                  Park           Pizza Place   \n5         Gr\u00fcnerl\u00f8kka                  Park           Pizza Place   \n6         Nordre Aker                  Park           Pizza Place   \n7          Nordstrand                  Park           Pizza Place   \n8              Sagene                  Park           Pizza Place   \n9      St. Hanshaugen                  Park           Pizza Place   \n10            Stovner                  Park           Pizza Place   \n11  S\u00f8ndre Nordstrand                  Park           Pizza Place   \n12             Ullern                  Park           Pizza Place   \n13        Vestre Aker                  Park           Pizza Place   \n14           \u00d8stensj\u00f8                  Park           Pizza Place   \n\n   3rd Most Common Venue 4th Most Common Venue 5th Most Common Venue  \\\n0         Sandwich Place    Mexican Restaurant            Donut Shop   \n1         Sandwich Place    Mexican Restaurant            Donut Shop   \n2         Sandwich Place    Mexican Restaurant            Donut Shop   \n3         Sandwich Place    Mexican Restaurant            Donut Shop   \n4         Sandwich Place    Mexican Restaurant            Donut Shop   \n5         Sandwich Place    Mexican Restaurant            Donut Shop   \n6         Sandwich Place    Mexican Restaurant            Donut Shop   \n7         Sandwich Place    Mexican Restaurant            Donut Shop   \n8         Sandwich Place    Mexican Restaurant            Donut Shop   \n9         Sandwich Place    Mexican Restaurant            Donut Shop   \n10        Sandwich Place    Mexican Restaurant            Donut Shop   \n11        Sandwich Place    Mexican Restaurant            Donut Shop   \n12        Sandwich Place    Mexican Restaurant            Donut Shop   \n13        Sandwich Place    Mexican Restaurant            Donut Shop   \n14        Sandwich Place    Mexican Restaurant            Donut Shop   \n\n   6th Most Common Venue 7th Most Common Venue 8th Most Common Venue  \\\n0                   Caf\u00e9           Supermarket    Spanish Restaurant   \n1                   Caf\u00e9           Supermarket    Spanish Restaurant   \n2                   Caf\u00e9           Supermarket    Spanish Restaurant   \n3                   Caf\u00e9           Supermarket    Spanish Restaurant   \n4                   Caf\u00e9           Supermarket    Spanish Restaurant   \n5                   Caf\u00e9           Supermarket    Spanish Restaurant   \n6                   Caf\u00e9           Supermarket    Spanish Restaurant   \n7                   Caf\u00e9           Supermarket    Spanish Restaurant   \n8                   Caf\u00e9           Supermarket    Spanish Restaurant   \n9                   Caf\u00e9           Supermarket    Spanish Restaurant   \n10                  Caf\u00e9           Supermarket    Spanish Restaurant   \n11                  Caf\u00e9           Supermarket    Spanish Restaurant   \n12                  Caf\u00e9           Supermarket    Spanish Restaurant   \n13                  Caf\u00e9           Supermarket    Spanish Restaurant   \n14                  Caf\u00e9           Supermarket    Spanish Restaurant   \n\n   9th Most Common Venue 10th Most Common Venue  \n0    American Restaurant         Scenic Lookout  \n1    American Restaurant         Scenic Lookout  \n2    American Restaurant         Scenic Lookout  \n3    American Restaurant         Scenic Lookout  \n4    American Restaurant         Scenic Lookout  \n5    American Restaurant         Scenic Lookout  \n6    American Restaurant         Scenic Lookout  \n7    American Restaurant         Scenic Lookout  \n8    American Restaurant         Scenic Lookout  \n9    American Restaurant         Scenic Lookout  \n10   American Restaurant         Scenic Lookout  \n11   American Restaurant         Scenic Lookout  \n12   American Restaurant         Scenic Lookout  \n13   American Restaurant         Scenic Lookout  \n14   American Restaurant         Scenic Lookout  "
                    },
                    "execution_count": 62,
                    "metadata": {},
                    "output_type": "execute_result"
                }
            ],
            "source": "num_top_venues = 10\n\nindicators = ['st', 'nd', 'rd']\n\n# create columns according to number of top venues\ncolumns = ['Neighborhood']\nfor ind in np.arange(num_top_venues):\n    try:\n        columns.append('{}{} Most Common Venue'.format(ind+1, indicators[ind]))\n    except:\n        columns.append('{}th Most Common Venue'.format(ind+1))\n\n# create a new dataframe\nneighborhoods_venues_sorted = pd.DataFrame(columns=columns)\nneighborhoods_venues_sorted['Neighborhood'] = Oslo_grouped['Neighborhood']\n\nfor ind in np.arange(Oslo_grouped.shape[0]):\n    neighborhoods_venues_sorted.iloc[ind, 1:] = return_most_common_venues(Oslo_grouped.iloc[ind, :], num_top_venues)\n\nneighborhoods_venues_sorted.head()"
        },
        {
            "cell_type": "markdown",
            "metadata": {},
            "source": "# Cluster Neighborhoods"
        },
        {
            "cell_type": "code",
            "execution_count": null,
            "metadata": {},
            "outputs": [],
            "source": "Run k-means to cluster the neighborhood into 5 clusters."
        },
        {
            "cell_type": "code",
            "execution_count": 51,
            "metadata": {},
            "outputs": [
                {
                    "name": "stderr",
                    "output_type": "stream",
                    "text": "/opt/conda/envs/Python36/lib/python3.6/site-packages/sklearn/cluster/k_means_.py:971: ConvergenceWarning: Number of distinct clusters (1) found smaller than n_clusters (5). Possibly due to duplicate points in X.\n  return_n_iter=True)\n"
                },
                {
                    "data": {
                        "text/plain": "array([0, 0, 0, 0, 0, 0, 0, 0, 0, 0], dtype=int32)"
                    },
                    "execution_count": 51,
                    "metadata": {},
                    "output_type": "execute_result"
                }
            ],
            "source": "# set number of clusters\nkclusters = 5\n\nOslo_grouped_clustering = Oslo_grouped.drop('Neighborhood', 1)\n\n# run k-means clustering\nkmeans = KMeans(n_clusters=kclusters, random_state=0).fit(Oslo_grouped_clustering)\n\n# check cluster labels generated for each row in the dataframe\nkmeans.labels_[0:10] "
        },
        {
            "cell_type": "markdown",
            "metadata": {},
            "source": "# Clusters visualization of Oslo neighborhoods"
        },
        {
            "cell_type": "code",
            "execution_count": null,
            "metadata": {},
            "outputs": [],
            "source": ""
        },
        {
            "cell_type": "code",
            "execution_count": 54,
            "metadata": {
                "scrolled": true
            },
            "outputs": [
                {
                    "data": {
                        "text/html": "<div style=\"width:100%;\"><div style=\"position:relative;width:100%;height:0;padding-bottom:60%;\"><iframe src=\"about:blank\" style=\"position:absolute;width:100%;height:100%;left:0;top:0;border:none !important;\" data-html=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 onload=\"this.contentDocument.open();this.contentDocument.write(atob(this.getAttribute('data-html')));this.contentDocument.close();\" allowfullscreen webkitallowfullscreen mozallowfullscreen></iframe></div></div>",
                        "text/plain": "<folium.folium.Map at 0x7f914fe36668>"
                    },
                    "execution_count": 54,
                    "metadata": {},
                    "output_type": "execute_result"
                }
            ],
            "source": "# create map\nmap_clusters = folium.Map(location=[latitude, longitude], zoom_start=11)\n\n# set color scheme for the clusters\nx = np.arange(kclusters)\nys = [i+x+(i*x)**2 for i in range(kclusters)]\ncolors_array = cm.rainbow(np.linspace(0, 1, len(ys)))\nrainbow = [colors.rgb2hex(i) for i in colors_array]\n\n# add markers to the map\nmarkers_colors = []\nfor lat, lon, poi, cluster in zip(Oslo_merged['Latitude'], Oslo_merged['Longitude'], Oslo_merged['Neighborhood'], Oslo_merged['Cluster Labels']):\n    label = folium.Popup(str(poi) + ' Cluster ' + str(cluster), parse_html=True)\n    folium.CircleMarker(\n        [lat, lon],\n        radius=5,\n        popup=label,\n        color=rainbow[cluster-1],\n        fill=True,\n        fill_color=rainbow[cluster-1],\n        fill_opacity=0.7).add_to(map_clusters)\n       \nmap_clusters"
        },
        {
            "cell_type": "markdown",
            "metadata": {},
            "source": "### Cluster 1"
        },
        {
            "cell_type": "code",
            "execution_count": null,
            "metadata": {},
            "outputs": [],
            "source": "manhattan_merged.loc[manhattan_merged['Cluster Labels'] == 0, manhattan_merged.columns[[1] + list(range(5, manhattan_merged.shape[1]))]]"
        },
        {
            "cell_type": "markdown",
            "metadata": {},
            "source": "### Cluster 2"
        },
        {
            "cell_type": "code",
            "execution_count": null,
            "metadata": {},
            "outputs": [],
            "source": "manhattan_merged.loc[manhattan_merged['Cluster Labels'] == 1, manhattan_merged.columns[[1] + list(range(5, manhattan_merged.shape[1]))]]"
        },
        {
            "cell_type": "markdown",
            "metadata": {},
            "source": "### Cluster 3"
        },
        {
            "cell_type": "code",
            "execution_count": null,
            "metadata": {},
            "outputs": [],
            "source": "manhattan_merged.loc[manhattan_merged['Cluster Labels'] == 2, manhattan_merged.columns[[1] + list(range(5, manhattan_merged.shape[1]))]]"
        },
        {
            "cell_type": "markdown",
            "metadata": {},
            "source": "### Cluster 4"
        },
        {
            "cell_type": "code",
            "execution_count": null,
            "metadata": {},
            "outputs": [],
            "source": "manhattan_merged.loc[manhattan_merged['Cluster Labels'] == 3, manhattan_merged.columns[[1] + list(range(5, manhattan_merged.shape[1]))]]"
        },
        {
            "cell_type": "markdown",
            "metadata": {},
            "source": "### Cluster 5"
        },
        {
            "cell_type": "code",
            "execution_count": null,
            "metadata": {},
            "outputs": [],
            "source": "manhattan_merged.loc[manhattan_merged['Cluster Labels'] == 4, manhattan_merged.columns[[1] + list(range(5, manhattan_merged.shape[1]))]]"
        },
        {
            "cell_type": "markdown",
            "metadata": {},
            "source": "# RESULTS"
        },
        {
            "cell_type": "markdown",
            "metadata": {},
            "source": "In this data it can be shown that the Frogner and Grunnerlorka are the areas in oslo which accumulates a higher number commercial businesess. By this reason it would be reccommended to invest there. "
        },
        {
            "cell_type": "code",
            "execution_count": null,
            "metadata": {},
            "outputs": [],
            "source": ""
        },
        {
            "cell_type": "code",
            "execution_count": null,
            "metadata": {},
            "outputs": [],
            "source": ""
        }
    ],
    "metadata": {
        "kernelspec": {
            "display_name": "Python 3.6",
            "language": "python",
            "name": "python3"
        },
        "language_info": {
            "codemirror_mode": {
                "name": "ipython",
                "version": 3
            },
            "file_extension": ".py",
            "mimetype": "text/x-python",
            "name": "python",
            "nbconvert_exporter": "python",
            "pygments_lexer": "ipython3",
            "version": "3.6.9"
        }
    },
    "nbformat": 4,
    "nbformat_minor": 1
}